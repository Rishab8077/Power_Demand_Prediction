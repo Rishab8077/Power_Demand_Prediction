{
 "cells": [
  {
   "cell_type": "code",
   "execution_count": 1,
   "id": "dca6dab0",
   "metadata": {},
   "outputs": [],
   "source": [
    "import pandas as pd\n",
    "import numpy as np\n",
    "import matplotlib.pyplot as plt\n",
    "from sklearn.preprocessing import MinMaxScaler\n",
    "from datetime import date, timedelta\n",
    "from sklearn.metrics import mean_squared_error\n",
    "import tensorflow.keras\n",
    "from tensorflow.keras.models import Sequential\n",
    "from tensorflow.keras.layers import Dense\n",
    "from tensorflow.keras.layers import Dropout\n",
    "from tensorflow.keras.layers import LSTM"
   ]
  },
  {
   "cell_type": "code",
   "execution_count": 2,
   "id": "adb364bc",
   "metadata": {},
   "outputs": [
    {
     "name": "stderr",
     "output_type": "stream",
     "text": [
      "c:\\users\\dell\\appdata\\local\\programs\\python\\python39\\lib\\site-packages\\IPython\\core\\interactiveshell.py:3169: DtypeWarning: Columns (1,2,3,4,5,6,7) have mixed types.Specify dtype option on import or set low_memory=False.\n",
      "  has_raised = await self.run_ast_nodes(code_ast.body, cell_name,\n"
     ]
    }
   ],
   "source": [
    "df = pd.read_csv('electricity/1.csv')"
   ]
  },
  {
   "cell_type": "code",
   "execution_count": 3,
   "id": "30629f14",
   "metadata": {},
   "outputs": [
    {
     "data": {
      "text/html": [
       "<div>\n",
       "<style scoped>\n",
       "    .dataframe tbody tr th:only-of-type {\n",
       "        vertical-align: middle;\n",
       "    }\n",
       "\n",
       "    .dataframe tbody tr th {\n",
       "        vertical-align: top;\n",
       "    }\n",
       "\n",
       "    .dataframe thead th {\n",
       "        text-align: right;\n",
       "    }\n",
       "</style>\n",
       "<table border=\"1\" class=\"dataframe\">\n",
       "  <thead>\n",
       "    <tr style=\"text-align: right;\">\n",
       "      <th></th>\n",
       "      <th>timestamp</th>\n",
       "      <th>W</th>\n",
       "      <th>VAR</th>\n",
       "      <th>VA</th>\n",
       "      <th>f</th>\n",
       "      <th>VLN</th>\n",
       "      <th>PF</th>\n",
       "      <th>A</th>\n",
       "    </tr>\n",
       "  </thead>\n",
       "  <tbody>\n",
       "    <tr>\n",
       "      <th>0</th>\n",
       "      <td>1369353600</td>\n",
       "      <td>0.0</td>\n",
       "      <td>0.0</td>\n",
       "      <td>0.0</td>\n",
       "      <td>49.997299</td>\n",
       "      <td>232.326004</td>\n",
       "      <td>0.0</td>\n",
       "      <td>0.0</td>\n",
       "    </tr>\n",
       "    <tr>\n",
       "      <th>1</th>\n",
       "      <td>1369353601</td>\n",
       "      <td>0.0</td>\n",
       "      <td>0.0</td>\n",
       "      <td>0.0</td>\n",
       "      <td>49.9949</td>\n",
       "      <td>232.326004</td>\n",
       "      <td>0.0</td>\n",
       "      <td>0.0</td>\n",
       "    </tr>\n",
       "    <tr>\n",
       "      <th>2</th>\n",
       "      <td>1369353602</td>\n",
       "      <td>0.0</td>\n",
       "      <td>0.0</td>\n",
       "      <td>0.0</td>\n",
       "      <td>49.9949</td>\n",
       "      <td>232.326004</td>\n",
       "      <td>0.0</td>\n",
       "      <td>0.0</td>\n",
       "    </tr>\n",
       "    <tr>\n",
       "      <th>3</th>\n",
       "      <td>1369353603</td>\n",
       "      <td>0.0</td>\n",
       "      <td>0.0</td>\n",
       "      <td>0.0</td>\n",
       "      <td>49.993099</td>\n",
       "      <td>232.311005</td>\n",
       "      <td>0.0</td>\n",
       "      <td>0.0</td>\n",
       "    </tr>\n",
       "    <tr>\n",
       "      <th>4</th>\n",
       "      <td>1369353604</td>\n",
       "      <td>0.0</td>\n",
       "      <td>0.0</td>\n",
       "      <td>0.0</td>\n",
       "      <td>49.991501</td>\n",
       "      <td>232.292999</td>\n",
       "      <td>0.0</td>\n",
       "      <td>0.0</td>\n",
       "    </tr>\n",
       "    <tr>\n",
       "      <th>...</th>\n",
       "      <td>...</td>\n",
       "      <td>...</td>\n",
       "      <td>...</td>\n",
       "      <td>...</td>\n",
       "      <td>...</td>\n",
       "      <td>...</td>\n",
       "      <td>...</td>\n",
       "      <td>...</td>\n",
       "    </tr>\n",
       "    <tr>\n",
       "      <th>4391054</th>\n",
       "      <td>1375716790</td>\n",
       "      <td>14.8999</td>\n",
       "      <td>0.0</td>\n",
       "      <td>26.733601</td>\n",
       "      <td>50.154499</td>\n",
       "      <td>241.912994</td>\n",
       "      <td>0.557348</td>\n",
       "      <td>0.110467</td>\n",
       "    </tr>\n",
       "    <tr>\n",
       "      <th>4391055</th>\n",
       "      <td>1375716791</td>\n",
       "      <td>14.8999</td>\n",
       "      <td>0.0</td>\n",
       "      <td>26.733601</td>\n",
       "      <td>50.154499</td>\n",
       "      <td>241.912994</td>\n",
       "      <td>0.557348</td>\n",
       "      <td>0.110467</td>\n",
       "    </tr>\n",
       "    <tr>\n",
       "      <th>4391056</th>\n",
       "      <td>1375716792</td>\n",
       "      <td>14.9037</td>\n",
       "      <td>0.0</td>\n",
       "      <td>26.712999</td>\n",
       "      <td>50.156399</td>\n",
       "      <td>241.932999</td>\n",
       "      <td>0.55792</td>\n",
       "      <td>0.110373</td>\n",
       "    </tr>\n",
       "    <tr>\n",
       "      <th>4391057</th>\n",
       "      <td>1375716795</td>\n",
       "      <td>14.9447</td>\n",
       "      <td>0.0</td>\n",
       "      <td>26.755301</td>\n",
       "      <td>50.159901</td>\n",
       "      <td>241.992004</td>\n",
       "      <td>0.558568</td>\n",
       "      <td>0.11052</td>\n",
       "    </tr>\n",
       "    <tr>\n",
       "      <th>4391058</th>\n",
       "      <td>1375716796</td>\n",
       "      <td>14.9293</td>\n",
       "      <td>0.0</td>\n",
       "      <td>26.7479</td>\n",
       "      <td>50.1586</td>\n",
       "      <td>242.007996</td>\n",
       "      <td>0.55815</td>\n",
       "      <td>0.110482</td>\n",
       "    </tr>\n",
       "  </tbody>\n",
       "</table>\n",
       "<p>4391059 rows × 8 columns</p>\n",
       "</div>"
      ],
      "text/plain": [
       "          timestamp        W  VAR         VA          f         VLN        PF  \\\n",
       "0        1369353600      0.0  0.0        0.0  49.997299  232.326004       0.0   \n",
       "1        1369353601      0.0  0.0        0.0    49.9949  232.326004       0.0   \n",
       "2        1369353602      0.0  0.0        0.0    49.9949  232.326004       0.0   \n",
       "3        1369353603      0.0  0.0        0.0  49.993099  232.311005       0.0   \n",
       "4        1369353604      0.0  0.0        0.0  49.991501  232.292999       0.0   \n",
       "...             ...      ...  ...        ...        ...         ...       ...   \n",
       "4391054  1375716790  14.8999  0.0  26.733601  50.154499  241.912994  0.557348   \n",
       "4391055  1375716791  14.8999  0.0  26.733601  50.154499  241.912994  0.557348   \n",
       "4391056  1375716792  14.9037  0.0  26.712999  50.156399  241.932999   0.55792   \n",
       "4391057  1375716795  14.9447  0.0  26.755301  50.159901  241.992004  0.558568   \n",
       "4391058  1375716796  14.9293  0.0    26.7479    50.1586  242.007996   0.55815   \n",
       "\n",
       "                A  \n",
       "0             0.0  \n",
       "1             0.0  \n",
       "2             0.0  \n",
       "3             0.0  \n",
       "4             0.0  \n",
       "...           ...  \n",
       "4391054  0.110467  \n",
       "4391055  0.110467  \n",
       "4391056  0.110373  \n",
       "4391057   0.11052  \n",
       "4391058  0.110482  \n",
       "\n",
       "[4391059 rows x 8 columns]"
      ]
     },
     "execution_count": 3,
     "metadata": {},
     "output_type": "execute_result"
    }
   ],
   "source": [
    "#df.drop('Unnamed: 0',axis=1,inplace=True)\n",
    "df"
   ]
  },
  {
   "cell_type": "code",
   "execution_count": 12,
   "id": "0a7d4fe3",
   "metadata": {},
   "outputs": [],
   "source": [
    "df['TIMESTAMP']=pd.to_datetime(df['timestamp'], unit='s')\n",
    "df['timestamp']=df['TIMESTAMP']\n",
    "df.drop('TIMESTAMP',axis=1,inplace=True)"
   ]
  },
  {
   "cell_type": "code",
   "execution_count": 13,
   "id": "5f81b25b",
   "metadata": {},
   "outputs": [],
   "source": [
    "df.drop(['A','PF','f','VA','VAR','VLN'],axis=1,inplace=True)\n",
    "#df.drop('VLN',axis=1,inplace=True)"
   ]
  },
  {
   "cell_type": "code",
   "execution_count": 14,
   "id": "08557ce4",
   "metadata": {},
   "outputs": [
    {
     "data": {
      "text/html": [
       "<div>\n",
       "<style scoped>\n",
       "    .dataframe tbody tr th:only-of-type {\n",
       "        vertical-align: middle;\n",
       "    }\n",
       "\n",
       "    .dataframe tbody tr th {\n",
       "        vertical-align: top;\n",
       "    }\n",
       "\n",
       "    .dataframe thead th {\n",
       "        text-align: right;\n",
       "    }\n",
       "</style>\n",
       "<table border=\"1\" class=\"dataframe\">\n",
       "  <thead>\n",
       "    <tr style=\"text-align: right;\">\n",
       "      <th></th>\n",
       "      <th>timestamp</th>\n",
       "      <th>W</th>\n",
       "      <th>Day</th>\n",
       "    </tr>\n",
       "  </thead>\n",
       "  <tbody>\n",
       "    <tr>\n",
       "      <th>0</th>\n",
       "      <td>2013-05-24 00:00:00</td>\n",
       "      <td>0.0</td>\n",
       "      <td>4</td>\n",
       "    </tr>\n",
       "    <tr>\n",
       "      <th>1</th>\n",
       "      <td>2013-05-24 00:00:01</td>\n",
       "      <td>0.0</td>\n",
       "      <td>4</td>\n",
       "    </tr>\n",
       "    <tr>\n",
       "      <th>2</th>\n",
       "      <td>2013-05-24 00:00:02</td>\n",
       "      <td>0.0</td>\n",
       "      <td>4</td>\n",
       "    </tr>\n",
       "    <tr>\n",
       "      <th>3</th>\n",
       "      <td>2013-05-24 00:00:03</td>\n",
       "      <td>0.0</td>\n",
       "      <td>4</td>\n",
       "    </tr>\n",
       "    <tr>\n",
       "      <th>4</th>\n",
       "      <td>2013-05-24 00:00:04</td>\n",
       "      <td>0.0</td>\n",
       "      <td>4</td>\n",
       "    </tr>\n",
       "    <tr>\n",
       "      <th>...</th>\n",
       "      <td>...</td>\n",
       "      <td>...</td>\n",
       "      <td>...</td>\n",
       "    </tr>\n",
       "    <tr>\n",
       "      <th>4391054</th>\n",
       "      <td>2013-08-05 15:33:10</td>\n",
       "      <td>14.8999</td>\n",
       "      <td>0</td>\n",
       "    </tr>\n",
       "    <tr>\n",
       "      <th>4391055</th>\n",
       "      <td>2013-08-05 15:33:11</td>\n",
       "      <td>14.8999</td>\n",
       "      <td>0</td>\n",
       "    </tr>\n",
       "    <tr>\n",
       "      <th>4391056</th>\n",
       "      <td>2013-08-05 15:33:12</td>\n",
       "      <td>14.9037</td>\n",
       "      <td>0</td>\n",
       "    </tr>\n",
       "    <tr>\n",
       "      <th>4391057</th>\n",
       "      <td>2013-08-05 15:33:15</td>\n",
       "      <td>14.9447</td>\n",
       "      <td>0</td>\n",
       "    </tr>\n",
       "    <tr>\n",
       "      <th>4391058</th>\n",
       "      <td>2013-08-05 15:33:16</td>\n",
       "      <td>14.9293</td>\n",
       "      <td>0</td>\n",
       "    </tr>\n",
       "  </tbody>\n",
       "</table>\n",
       "<p>4391059 rows × 3 columns</p>\n",
       "</div>"
      ],
      "text/plain": [
       "                  timestamp        W  Day\n",
       "0       2013-05-24 00:00:00      0.0    4\n",
       "1       2013-05-24 00:00:01      0.0    4\n",
       "2       2013-05-24 00:00:02      0.0    4\n",
       "3       2013-05-24 00:00:03      0.0    4\n",
       "4       2013-05-24 00:00:04      0.0    4\n",
       "...                     ...      ...  ...\n",
       "4391054 2013-08-05 15:33:10  14.8999    0\n",
       "4391055 2013-08-05 15:33:11  14.8999    0\n",
       "4391056 2013-08-05 15:33:12  14.9037    0\n",
       "4391057 2013-08-05 15:33:15  14.9447    0\n",
       "4391058 2013-08-05 15:33:16  14.9293    0\n",
       "\n",
       "[4391059 rows x 3 columns]"
      ]
     },
     "execution_count": 14,
     "metadata": {},
     "output_type": "execute_result"
    }
   ],
   "source": [
    "df['Day']=pd.to_datetime(df['timestamp']).dt.dayofweek\n",
    "df"
   ]
  },
  {
   "cell_type": "code",
   "execution_count": 15,
   "id": "c0e195c0",
   "metadata": {},
   "outputs": [],
   "source": [
    "df['Hour']=pd.to_datetime(df['timestamp']).dt.hour\n",
    "df['Minute']=pd.to_datetime(df['timestamp']).dt.minute\n",
    "df['Seconds']=pd.to_datetime(df['timestamp']).dt.second\n",
    "df.drop('timestamp',axis=1,inplace=True)"
   ]
  },
  {
   "cell_type": "code",
   "execution_count": 16,
   "id": "3f0797b5",
   "metadata": {},
   "outputs": [
    {
     "data": {
      "text/html": [
       "<div>\n",
       "<style scoped>\n",
       "    .dataframe tbody tr th:only-of-type {\n",
       "        vertical-align: middle;\n",
       "    }\n",
       "\n",
       "    .dataframe tbody tr th {\n",
       "        vertical-align: top;\n",
       "    }\n",
       "\n",
       "    .dataframe thead th {\n",
       "        text-align: right;\n",
       "    }\n",
       "</style>\n",
       "<table border=\"1\" class=\"dataframe\">\n",
       "  <thead>\n",
       "    <tr style=\"text-align: right;\">\n",
       "      <th></th>\n",
       "      <th>W</th>\n",
       "      <th>Day</th>\n",
       "      <th>Hour</th>\n",
       "      <th>Minute</th>\n",
       "      <th>Seconds</th>\n",
       "    </tr>\n",
       "  </thead>\n",
       "  <tbody>\n",
       "    <tr>\n",
       "      <th>0</th>\n",
       "      <td>0.0</td>\n",
       "      <td>4</td>\n",
       "      <td>0</td>\n",
       "      <td>0</td>\n",
       "      <td>0</td>\n",
       "    </tr>\n",
       "    <tr>\n",
       "      <th>1</th>\n",
       "      <td>0.0</td>\n",
       "      <td>4</td>\n",
       "      <td>0</td>\n",
       "      <td>0</td>\n",
       "      <td>1</td>\n",
       "    </tr>\n",
       "    <tr>\n",
       "      <th>2</th>\n",
       "      <td>0.0</td>\n",
       "      <td>4</td>\n",
       "      <td>0</td>\n",
       "      <td>0</td>\n",
       "      <td>2</td>\n",
       "    </tr>\n",
       "    <tr>\n",
       "      <th>3</th>\n",
       "      <td>0.0</td>\n",
       "      <td>4</td>\n",
       "      <td>0</td>\n",
       "      <td>0</td>\n",
       "      <td>3</td>\n",
       "    </tr>\n",
       "    <tr>\n",
       "      <th>4</th>\n",
       "      <td>0.0</td>\n",
       "      <td>4</td>\n",
       "      <td>0</td>\n",
       "      <td>0</td>\n",
       "      <td>4</td>\n",
       "    </tr>\n",
       "    <tr>\n",
       "      <th>...</th>\n",
       "      <td>...</td>\n",
       "      <td>...</td>\n",
       "      <td>...</td>\n",
       "      <td>...</td>\n",
       "      <td>...</td>\n",
       "    </tr>\n",
       "    <tr>\n",
       "      <th>4391054</th>\n",
       "      <td>14.8999</td>\n",
       "      <td>0</td>\n",
       "      <td>15</td>\n",
       "      <td>33</td>\n",
       "      <td>10</td>\n",
       "    </tr>\n",
       "    <tr>\n",
       "      <th>4391055</th>\n",
       "      <td>14.8999</td>\n",
       "      <td>0</td>\n",
       "      <td>15</td>\n",
       "      <td>33</td>\n",
       "      <td>11</td>\n",
       "    </tr>\n",
       "    <tr>\n",
       "      <th>4391056</th>\n",
       "      <td>14.9037</td>\n",
       "      <td>0</td>\n",
       "      <td>15</td>\n",
       "      <td>33</td>\n",
       "      <td>12</td>\n",
       "    </tr>\n",
       "    <tr>\n",
       "      <th>4391057</th>\n",
       "      <td>14.9447</td>\n",
       "      <td>0</td>\n",
       "      <td>15</td>\n",
       "      <td>33</td>\n",
       "      <td>15</td>\n",
       "    </tr>\n",
       "    <tr>\n",
       "      <th>4391058</th>\n",
       "      <td>14.9293</td>\n",
       "      <td>0</td>\n",
       "      <td>15</td>\n",
       "      <td>33</td>\n",
       "      <td>16</td>\n",
       "    </tr>\n",
       "  </tbody>\n",
       "</table>\n",
       "<p>4391059 rows × 5 columns</p>\n",
       "</div>"
      ],
      "text/plain": [
       "               W  Day  Hour  Minute  Seconds\n",
       "0            0.0    4     0       0        0\n",
       "1            0.0    4     0       0        1\n",
       "2            0.0    4     0       0        2\n",
       "3            0.0    4     0       0        3\n",
       "4            0.0    4     0       0        4\n",
       "...          ...  ...   ...     ...      ...\n",
       "4391054  14.8999    0    15      33       10\n",
       "4391055  14.8999    0    15      33       11\n",
       "4391056  14.9037    0    15      33       12\n",
       "4391057  14.9447    0    15      33       15\n",
       "4391058  14.9293    0    15      33       16\n",
       "\n",
       "[4391059 rows x 5 columns]"
      ]
     },
     "execution_count": 16,
     "metadata": {},
     "output_type": "execute_result"
    }
   ],
   "source": [
    "df"
   ]
  },
  {
   "cell_type": "code",
   "execution_count": 17,
   "id": "8a688aa9",
   "metadata": {},
   "outputs": [],
   "source": [
    "df['W']=pd.to_numeric(df['W'], errors='coerce')"
   ]
  },
  {
   "cell_type": "code",
   "execution_count": 18,
   "id": "d65e1b15",
   "metadata": {},
   "outputs": [
    {
     "data": {
      "text/plain": [
       "dtype('float64')"
      ]
     },
     "execution_count": 18,
     "metadata": {},
     "output_type": "execute_result"
    }
   ],
   "source": [
    "df['W'].dtype"
   ]
  },
  {
   "cell_type": "code",
   "execution_count": 19,
   "id": "d3072591",
   "metadata": {},
   "outputs": [
    {
     "data": {
      "text/html": [
       "<div>\n",
       "<style scoped>\n",
       "    .dataframe tbody tr th:only-of-type {\n",
       "        vertical-align: middle;\n",
       "    }\n",
       "\n",
       "    .dataframe tbody tr th {\n",
       "        vertical-align: top;\n",
       "    }\n",
       "\n",
       "    .dataframe thead th {\n",
       "        text-align: right;\n",
       "    }\n",
       "</style>\n",
       "<table border=\"1\" class=\"dataframe\">\n",
       "  <thead>\n",
       "    <tr style=\"text-align: right;\">\n",
       "      <th></th>\n",
       "      <th>W</th>\n",
       "      <th>Day</th>\n",
       "      <th>Hour</th>\n",
       "      <th>Minute</th>\n",
       "      <th>Seconds</th>\n",
       "    </tr>\n",
       "  </thead>\n",
       "  <tbody>\n",
       "    <tr>\n",
       "      <th>0</th>\n",
       "      <td>0.000000</td>\n",
       "      <td>0.666667</td>\n",
       "      <td>0.000000</td>\n",
       "      <td>0.000000</td>\n",
       "      <td>0.000000</td>\n",
       "    </tr>\n",
       "    <tr>\n",
       "      <th>1</th>\n",
       "      <td>0.000000</td>\n",
       "      <td>0.666667</td>\n",
       "      <td>0.000000</td>\n",
       "      <td>0.000000</td>\n",
       "      <td>0.016949</td>\n",
       "    </tr>\n",
       "    <tr>\n",
       "      <th>2</th>\n",
       "      <td>0.000000</td>\n",
       "      <td>0.666667</td>\n",
       "      <td>0.000000</td>\n",
       "      <td>0.000000</td>\n",
       "      <td>0.033898</td>\n",
       "    </tr>\n",
       "    <tr>\n",
       "      <th>3</th>\n",
       "      <td>0.000000</td>\n",
       "      <td>0.666667</td>\n",
       "      <td>0.000000</td>\n",
       "      <td>0.000000</td>\n",
       "      <td>0.050847</td>\n",
       "    </tr>\n",
       "    <tr>\n",
       "      <th>4</th>\n",
       "      <td>0.000000</td>\n",
       "      <td>0.666667</td>\n",
       "      <td>0.000000</td>\n",
       "      <td>0.000000</td>\n",
       "      <td>0.067797</td>\n",
       "    </tr>\n",
       "    <tr>\n",
       "      <th>...</th>\n",
       "      <td>...</td>\n",
       "      <td>...</td>\n",
       "      <td>...</td>\n",
       "      <td>...</td>\n",
       "      <td>...</td>\n",
       "    </tr>\n",
       "    <tr>\n",
       "      <th>4391054</th>\n",
       "      <td>0.003520</td>\n",
       "      <td>0.000000</td>\n",
       "      <td>0.652174</td>\n",
       "      <td>0.559322</td>\n",
       "      <td>0.169492</td>\n",
       "    </tr>\n",
       "    <tr>\n",
       "      <th>4391055</th>\n",
       "      <td>0.003520</td>\n",
       "      <td>0.000000</td>\n",
       "      <td>0.652174</td>\n",
       "      <td>0.559322</td>\n",
       "      <td>0.186441</td>\n",
       "    </tr>\n",
       "    <tr>\n",
       "      <th>4391056</th>\n",
       "      <td>0.003521</td>\n",
       "      <td>0.000000</td>\n",
       "      <td>0.652174</td>\n",
       "      <td>0.559322</td>\n",
       "      <td>0.203390</td>\n",
       "    </tr>\n",
       "    <tr>\n",
       "      <th>4391057</th>\n",
       "      <td>0.003530</td>\n",
       "      <td>0.000000</td>\n",
       "      <td>0.652174</td>\n",
       "      <td>0.559322</td>\n",
       "      <td>0.254237</td>\n",
       "    </tr>\n",
       "    <tr>\n",
       "      <th>4391058</th>\n",
       "      <td>0.003527</td>\n",
       "      <td>0.000000</td>\n",
       "      <td>0.652174</td>\n",
       "      <td>0.559322</td>\n",
       "      <td>0.271186</td>\n",
       "    </tr>\n",
       "  </tbody>\n",
       "</table>\n",
       "<p>4391059 rows × 5 columns</p>\n",
       "</div>"
      ],
      "text/plain": [
       "                W       Day      Hour    Minute   Seconds\n",
       "0        0.000000  0.666667  0.000000  0.000000  0.000000\n",
       "1        0.000000  0.666667  0.000000  0.000000  0.016949\n",
       "2        0.000000  0.666667  0.000000  0.000000  0.033898\n",
       "3        0.000000  0.666667  0.000000  0.000000  0.050847\n",
       "4        0.000000  0.666667  0.000000  0.000000  0.067797\n",
       "...           ...       ...       ...       ...       ...\n",
       "4391054  0.003520  0.000000  0.652174  0.559322  0.169492\n",
       "4391055  0.003520  0.000000  0.652174  0.559322  0.186441\n",
       "4391056  0.003521  0.000000  0.652174  0.559322  0.203390\n",
       "4391057  0.003530  0.000000  0.652174  0.559322  0.254237\n",
       "4391058  0.003527  0.000000  0.652174  0.559322  0.271186\n",
       "\n",
       "[4391059 rows x 5 columns]"
      ]
     },
     "execution_count": 19,
     "metadata": {},
     "output_type": "execute_result"
    }
   ],
   "source": [
    "scaler = MinMaxScaler(feature_range=(0,1))\n",
    "df_1=scaler.fit_transform(df)\n",
    "df_scaled = pd.DataFrame(df_1,columns=df.columns)\n",
    "df_scaled"
   ]
  },
  {
   "cell_type": "code",
   "execution_count": 20,
   "id": "c2825cdc",
   "metadata": {},
   "outputs": [],
   "source": [
    "X=df_scaled.drop('W',axis=1)\n",
    "y=df_scaled['W']"
   ]
  },
  {
   "cell_type": "code",
   "execution_count": 21,
   "id": "eebcc623",
   "metadata": {},
   "outputs": [],
   "source": [
    "X = np.asarray(X).astype(np.float32)\n",
    "y= np.asarray(y).astype(np.float32)"
   ]
  },
  {
   "cell_type": "code",
   "execution_count": 22,
   "id": "42de259e",
   "metadata": {},
   "outputs": [],
   "source": [
    "df_scaled.dropna(inplace=True)"
   ]
  },
  {
   "cell_type": "code",
   "execution_count": 23,
   "id": "782e2322",
   "metadata": {},
   "outputs": [
    {
     "data": {
      "text/plain": [
       "W          0\n",
       "Day        0\n",
       "Hour       0\n",
       "Minute     0\n",
       "Seconds    0\n",
       "dtype: int64"
      ]
     },
     "execution_count": 23,
     "metadata": {},
     "output_type": "execute_result"
    }
   ],
   "source": [
    "df_scaled.isnull().sum()"
   ]
  },
  {
   "cell_type": "code",
   "execution_count": 24,
   "id": "2a39af6a",
   "metadata": {},
   "outputs": [
    {
     "name": "stdout",
     "output_type": "stream",
     "text": [
      "(3512847, 4) (3512847,) (878192, 4) (878192,)\n"
     ]
    }
   ],
   "source": [
    "training_size=int(len(df)*0.80)\n",
    "test_size=len(df)-training_size\n",
    "X_train,y_train,X_test,y_test=df_scaled.iloc[0:training_size,1:5],df_scaled.iloc[0:training_size,0],df_scaled.iloc[training_size:len(df),1:5],df_scaled.iloc[training_size:len(df),0]\n",
    "X_train=X_train.to_numpy()\n",
    "y_train=y_train.to_numpy()\n",
    "X_test=X_test.to_numpy()\n",
    "y_test=y_test.to_numpy()\n",
    "print(X_train.shape,y_train.shape,X_test.shape,y_test.shape)"
   ]
  },
  {
   "cell_type": "code",
   "execution_count": 25,
   "id": "47677628",
   "metadata": {},
   "outputs": [],
   "source": [
    "X_train = X_train.reshape(X_train.shape[0], 1, X_train.shape[1])\n",
    "X_test  = X_test.reshape(X_test.shape[0], 1, X_test.shape[1])\n",
    "#y_train = y_train.reshape(-1, 1, 1)\n",
    "#y_test = y_test.reshape(-1, 1, 1)"
   ]
  },
  {
   "cell_type": "code",
   "execution_count": 26,
   "id": "60b5a0d4",
   "metadata": {},
   "outputs": [
    {
     "name": "stdout",
     "output_type": "stream",
     "text": [
      "Model: \"sequential\"\n",
      "_________________________________________________________________\n",
      "Layer (type)                 Output Shape              Param #   \n",
      "=================================================================\n",
      "lstm (LSTM)                  (None, 1, 50)             11000     \n",
      "_________________________________________________________________\n",
      "lstm_1 (LSTM)                (None, 50)                20200     \n",
      "_________________________________________________________________\n",
      "dense (Dense)                (None, 1)                 51        \n",
      "=================================================================\n",
      "Total params: 31,251\n",
      "Trainable params: 31,251\n",
      "Non-trainable params: 0\n",
      "_________________________________________________________________\n"
     ]
    }
   ],
   "source": [
    "model=Sequential()\n",
    "model.add(LSTM(50,return_sequences=True,input_shape=(1,4)))\n",
    "model.add(LSTM(50))\n",
    "model.add(Dense(1))\n",
    "model.compile(loss='mean_squared_error',optimizer='adam')\n",
    "model.summary()"
   ]
  },
  {
   "cell_type": "code",
   "execution_count": 27,
   "id": "b2e37cf3",
   "metadata": {},
   "outputs": [
    {
     "name": "stdout",
     "output_type": "stream",
     "text": [
      "Epoch 1/20\n",
      "13723/13723 [==============================] - 111s 7ms/step - loss: 0.0138 - val_loss: 0.0083\n",
      "Epoch 2/20\n",
      "13723/13723 [==============================] - 98s 7ms/step - loss: 0.0117 - val_loss: 0.0085\n",
      "Epoch 3/20\n",
      "13723/13723 [==============================] - 118s 9ms/step - loss: 0.0117 - val_loss: 0.0084\n",
      "Epoch 4/20\n",
      "13723/13723 [==============================] - 125s 9ms/step - loss: 0.0116 - val_loss: 0.0082\n",
      "Epoch 5/20\n",
      "13723/13723 [==============================] - 111s 8ms/step - loss: 0.0116 - val_loss: 0.0081\n",
      "Epoch 6/20\n",
      "13723/13723 [==============================] - 107s 8ms/step - loss: 0.0115 - val_loss: 0.0086\n",
      "Epoch 7/20\n",
      "13723/13723 [==============================] - 105s 8ms/step - loss: 0.0114 - val_loss: 0.0085\n",
      "Epoch 8/20\n",
      "13723/13723 [==============================] - 108s 8ms/step - loss: 0.0114 - val_loss: 0.0091\n",
      "Epoch 9/20\n",
      "13723/13723 [==============================] - 106s 8ms/step - loss: 0.0113 - val_loss: 0.0086\n",
      "Epoch 10/20\n",
      "13723/13723 [==============================] - 104s 8ms/step - loss: 0.0112 - val_loss: 0.0088\n",
      "Epoch 11/20\n",
      "13723/13723 [==============================] - 92s 7ms/step - loss: 0.0112 - val_loss: 0.0085\n",
      "Epoch 12/20\n",
      "13723/13723 [==============================] - 89s 6ms/step - loss: 0.0112 - val_loss: 0.0084\n",
      "Epoch 13/20\n",
      "13723/13723 [==============================] - 88s 6ms/step - loss: 0.0111 - val_loss: 0.0085\n",
      "Epoch 14/20\n",
      "13723/13723 [==============================] - 98s 7ms/step - loss: 0.0111 - val_loss: 0.0090\n",
      "Epoch 15/20\n",
      "13723/13723 [==============================] - 96s 7ms/step - loss: 0.0111 - val_loss: 0.0090\n",
      "Epoch 16/20\n",
      "13723/13723 [==============================] - 93s 7ms/step - loss: 0.0111 - val_loss: 0.0089\n",
      "Epoch 17/20\n",
      "13723/13723 [==============================] - 93s 7ms/step - loss: 0.0111 - val_loss: 0.0086\n",
      "Epoch 18/20\n",
      "13723/13723 [==============================] - 93s 7ms/step - loss: 0.0111 - val_loss: 0.0087\n",
      "Epoch 19/20\n",
      "13723/13723 [==============================] - 97s 7ms/step - loss: 0.0111 - val_loss: 0.0085\n",
      "Epoch 20/20\n",
      "13723/13723 [==============================] - 93s 7ms/step - loss: 0.0110 - val_loss: 0.0086\n"
     ]
    }
   ],
   "source": [
    "model_history=model.fit(X_train, y_train, batch_size = 256,epochs = 20, validation_data=(X_test,y_test),verbose=1)"
   ]
  },
  {
   "cell_type": "code",
   "execution_count": 28,
   "id": "4df2c624",
   "metadata": {},
   "outputs": [
    {
     "data": {
      "image/png": "[encoded data removed]",
      "text/plain": [
       "<Figure size 432x288 with 1 Axes>"
      ]
     },
     "metadata": {
      "needs_background": "light"
     },
     "output_type": "display_data"
    }
   ],
   "source": [
    "plt.plot(model_history.history['loss'])\n",
    "plt.plot(model_history.history['val_loss'])\n",
    "plt.title('model loss')\n",
    "plt.ylabel('loss')\n",
    "plt.xlabel('epoch')\n",
    "plt.legend(['train', 'test'], loc='upper right')\n",
    "plt.show()"
   ]
  },
  {
   "cell_type": "code",
   "execution_count": 29,
   "id": "c955e6c6",
   "metadata": {},
   "outputs": [],
   "source": [
    "size = df.shape[1]"
   ]
  },
  {
   "cell_type": "code",
   "execution_count": 36,
   "id": "7a04e357",
   "metadata": {},
   "outputs": [
    {
     "data": {
      "text/plain": [
       "(878192, 1, 4)"
      ]
     },
     "execution_count": 36,
     "metadata": {},
     "output_type": "execute_result"
    }
   ],
   "source": [
    "X_test.shape"
   ]
  },
  {
   "cell_type": "code",
   "execution_count": 37,
   "id": "a2e54837",
   "metadata": {},
   "outputs": [],
   "source": [
    "yhat = model.predict(X_test)"
   ]
  },
  {
   "cell_type": "code",
   "execution_count": 44,
   "id": "2a41f247",
   "metadata": {},
   "outputs": [],
   "source": [
    "X_test = X_test.reshape(X_test.shape[0], X_test.shape[2])"
   ]
  },
  {
   "cell_type": "code",
   "execution_count": 49,
   "id": "c2bc6fef",
   "metadata": {},
   "outputs": [
    {
     "data": {
      "text/plain": [
       "(878192,)"
      ]
     },
     "execution_count": 49,
     "metadata": {},
     "output_type": "execute_result"
    }
   ],
   "source": [
    "inv_yhat = np.concatenate((yhat, X_test[:, 1-size:]), axis=1)\n",
    "inv_yhat = scaler.inverse_transform(inv_yhat)\n",
    "inv_yhat = inv_yhat[:,0]\n",
    "inv_yhat.shape"
   ]
  },
  {
   "cell_type": "code",
   "execution_count": 50,
   "id": "8d46a7f3",
   "metadata": {},
   "outputs": [
    {
     "data": {
      "text/plain": [
       "(878192,)"
      ]
     },
     "execution_count": 50,
     "metadata": {},
     "output_type": "execute_result"
    }
   ],
   "source": [
    "# invert scaling for actual\n",
    "y_test = y_test.reshape((len(y_test), 1))\n",
    "inv_y = np.concatenate((y_test, X_test[:, 1-size:]), axis=1)\n",
    "inv_y = scaler.inverse_transform(inv_y)\n",
    "inv_y = inv_y[:,0]\n",
    "inv_y.shape"
   ]
  },
  {
   "cell_type": "code",
   "execution_count": 51,
   "id": "55f06cb5",
   "metadata": {},
   "outputs": [
    {
     "name": "stdout",
     "output_type": "stream",
     "text": [
      "Test RMSE: 393.288\n"
     ]
    }
   ],
   "source": [
    "rmse = np.sqrt(mean_squared_error(inv_y, inv_yhat))\n",
    "print('Test RMSE: %.3f' % rmse)"
   ]
  },
  {
   "cell_type": "code",
   "execution_count": 59,
   "id": "7e7447fb",
   "metadata": {},
   "outputs": [
    {
     "data": {
      "image/png": "[encoded data removed]",
      "text/plain": [
       "<Figure size 1800x720 with 1 Axes>"
      ]
     },
     "metadata": {
      "needs_background": "light"
     },
     "output_type": "display_data"
    }
   ],
   "source": [
    "aa=[x for x in range(86400)]\n",
    "plt.figure(figsize=(25,10)) \n",
    "plt.plot(aa, inv_y[86400:172800], marker='.', label=\"actual\")\n",
    "plt.plot(aa, inv_yhat[86400:172800], 'r', label=\"prediction\")\n",
    "plt.ylabel(df.columns[0], size=15)\n",
    "plt.xlabel('Timestep for all Test data 878192', size=15)\n",
    "plt.legend(fontsize=15)\n",
    "plt.show()"
   ]
  },
  {
   "cell_type": "code",
   "execution_count": null,
   "id": "1fe43402",
   "metadata": {},
   "outputs": [],
   "source": []
  }
 ],
 "metadata": {
  "kernelspec": {
   "display_name": "Python 3",
   "language": "python",
   "name": "python3"
  },
  "language_info": {
   "codemirror_mode": {
    "name": "ipython",
    "version": 3
   },
   "file_extension": ".py",
   "mimetype": "text/x-python",
   "name": "python",
   "nbconvert_exporter": "python",
   "pygments_lexer": "ipython3",
   "version": "3.9.2"
  }
 },
 "nbformat": 4,
 "nbformat_minor": 5
}
