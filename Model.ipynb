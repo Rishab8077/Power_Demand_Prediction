{
 "cells": [
  {
   "cell_type": "code",
   "execution_count": 1,
   "id": "dca6dab0",
   "metadata": {},
   "outputs": [],
   "source": [
    "import pandas as pd\n",
    "import numpy as np\n",
    "import matplotlib.pyplot as plt\n",
    "from sklearn.preprocessing import MinMaxScaler\n",
    "from datetime import date, timedelta\n",
    "from sklearn.metrics import mean_squared_error\n",
    "import tensorflow.keras\n",
    "from tensorflow.keras.models import Sequential\n",
    "from tensorflow.keras.layers import Dense\n",
    "from tensorflow.keras.layers import Dropout\n",
    "from tensorflow.keras.layers import LSTM"
   ]
  },
  {
   "cell_type": "code",
   "execution_count": 2,
   "id": "adb364bc",
   "metadata": {},
   "outputs": [],
   "source": [
    "df = pd.read_csv('Dataset_combined/Total_dataset.csv')"
   ]
  },
  {
   "cell_type": "code",
   "execution_count": 3,
   "id": "30629f14",
   "metadata": {},
   "outputs": [
    {
     "data": {
      "text/html": [
       "<div>\n",
       "<style scoped>\n",
       "    .dataframe tbody tr th:only-of-type {\n",
       "        vertical-align: middle;\n",
       "    }\n",
       "\n",
       "    .dataframe tbody tr th {\n",
       "        vertical-align: top;\n",
       "    }\n",
       "\n",
       "    .dataframe thead th {\n",
       "        text-align: right;\n",
       "    }\n",
       "</style>\n",
       "<table border=\"1\" class=\"dataframe\">\n",
       "  <thead>\n",
       "    <tr style=\"text-align: right;\">\n",
       "      <th></th>\n",
       "      <th>Timestamp</th>\n",
       "      <th>W</th>\n",
       "    </tr>\n",
       "  </thead>\n",
       "  <tbody>\n",
       "    <tr>\n",
       "      <th>0</th>\n",
       "      <td>2013-05-24 00:00:00</td>\n",
       "      <td>282.744995</td>\n",
       "    </tr>\n",
       "    <tr>\n",
       "      <th>1</th>\n",
       "      <td>2013-05-24 00:00:01</td>\n",
       "      <td>288.757996</td>\n",
       "    </tr>\n",
       "    <tr>\n",
       "      <th>2</th>\n",
       "      <td>2013-05-24 00:00:02</td>\n",
       "      <td>288.757996</td>\n",
       "    </tr>\n",
       "    <tr>\n",
       "      <th>3</th>\n",
       "      <td>2013-05-24 00:00:03</td>\n",
       "      <td>297.394012</td>\n",
       "    </tr>\n",
       "    <tr>\n",
       "      <th>4</th>\n",
       "      <td>2013-05-24 00:00:04</td>\n",
       "      <td>303.722992</td>\n",
       "    </tr>\n",
       "    <tr>\n",
       "      <th>...</th>\n",
       "      <td>...</td>\n",
       "      <td>...</td>\n",
       "    </tr>\n",
       "    <tr>\n",
       "      <th>4391054</th>\n",
       "      <td>2013-08-05 15:33:10</td>\n",
       "      <td>711.764891</td>\n",
       "    </tr>\n",
       "    <tr>\n",
       "      <th>4391055</th>\n",
       "      <td>2013-08-05 15:33:11</td>\n",
       "      <td>711.764891</td>\n",
       "    </tr>\n",
       "    <tr>\n",
       "      <th>4391056</th>\n",
       "      <td>2013-08-05 15:33:12</td>\n",
       "      <td>711.911695</td>\n",
       "    </tr>\n",
       "    <tr>\n",
       "      <th>4391057</th>\n",
       "      <td>2013-08-05 15:33:15</td>\n",
       "      <td>712.182676</td>\n",
       "    </tr>\n",
       "    <tr>\n",
       "      <th>4391058</th>\n",
       "      <td>2013-08-05 15:33:16</td>\n",
       "      <td>14.929300</td>\n",
       "    </tr>\n",
       "  </tbody>\n",
       "</table>\n",
       "<p>4391059 rows × 2 columns</p>\n",
       "</div>"
      ],
      "text/plain": [
       "                   Timestamp           W\n",
       "0        2013-05-24 00:00:00  282.744995\n",
       "1        2013-05-24 00:00:01  288.757996\n",
       "2        2013-05-24 00:00:02  288.757996\n",
       "3        2013-05-24 00:00:03  297.394012\n",
       "4        2013-05-24 00:00:04  303.722992\n",
       "...                      ...         ...\n",
       "4391054  2013-08-05 15:33:10  711.764891\n",
       "4391055  2013-08-05 15:33:11  711.764891\n",
       "4391056  2013-08-05 15:33:12  711.911695\n",
       "4391057  2013-08-05 15:33:15  712.182676\n",
       "4391058  2013-08-05 15:33:16   14.929300\n",
       "\n",
       "[4391059 rows x 2 columns]"
      ]
     },
     "execution_count": 3,
     "metadata": {},
     "output_type": "execute_result"
    }
   ],
   "source": [
    "df.drop('Unnamed: 0',axis=1,inplace=True)\n",
    "df"
   ]
  },
  {
   "cell_type": "code",
   "execution_count": 4,
   "id": "0a7d4fe3",
   "metadata": {},
   "outputs": [],
   "source": [
    "df['TIMESTAMP']=pd.to_datetime(df['Timestamp'])\n"
   ]
  },
  {
   "cell_type": "code",
   "execution_count": 5,
   "id": "ffc241be",
   "metadata": {},
   "outputs": [],
   "source": [
    "df['Timestamp']=df['TIMESTAMP']\n",
    "df.drop('TIMESTAMP',axis=1,inplace=True)"
   ]
  },
  {
   "cell_type": "code",
   "execution_count": 6,
   "id": "5f81b25b",
   "metadata": {},
   "outputs": [
    {
     "data": {
      "text/plain": [
       "(4391059, 2)"
      ]
     },
     "execution_count": 6,
     "metadata": {},
     "output_type": "execute_result"
    }
   ],
   "source": [
    "#df.drop(['A','PF','f','VA','VAR','VLN'],axis=1,inplace=True)\n",
    "#df.drop('VLN',axis=1,inplace=True)\n",
    "df.shape"
   ]
  },
  {
   "cell_type": "code",
   "execution_count": 7,
   "id": "8d2f7ff3",
   "metadata": {},
   "outputs": [],
   "source": [
    "df = df.set_index('Timestamp')"
   ]
  },
  {
   "cell_type": "code",
   "execution_count": 8,
   "id": "81f90c34",
   "metadata": {},
   "outputs": [],
   "source": [
    "df = df.resample('min').mean()"
   ]
  },
  {
   "cell_type": "code",
   "execution_count": 9,
   "id": "c26b6768",
   "metadata": {},
   "outputs": [
    {
     "data": {
      "text/html": [
       "<div>\n",
       "<style scoped>\n",
       "    .dataframe tbody tr th:only-of-type {\n",
       "        vertical-align: middle;\n",
       "    }\n",
       "\n",
       "    .dataframe tbody tr th {\n",
       "        vertical-align: top;\n",
       "    }\n",
       "\n",
       "    .dataframe thead th {\n",
       "        text-align: right;\n",
       "    }\n",
       "</style>\n",
       "<table border=\"1\" class=\"dataframe\">\n",
       "  <thead>\n",
       "    <tr style=\"text-align: right;\">\n",
       "      <th></th>\n",
       "      <th>W</th>\n",
       "    </tr>\n",
       "    <tr>\n",
       "      <th>Timestamp</th>\n",
       "      <th></th>\n",
       "    </tr>\n",
       "  </thead>\n",
       "  <tbody>\n",
       "    <tr>\n",
       "      <th>2013-05-24 00:00:00</th>\n",
       "      <td>285.566998</td>\n",
       "    </tr>\n",
       "    <tr>\n",
       "      <th>2013-05-24 00:01:00</th>\n",
       "      <td>284.513632</td>\n",
       "    </tr>\n",
       "    <tr>\n",
       "      <th>2013-05-24 00:02:00</th>\n",
       "      <td>283.382776</td>\n",
       "    </tr>\n",
       "    <tr>\n",
       "      <th>2013-05-24 00:03:00</th>\n",
       "      <td>419.192352</td>\n",
       "    </tr>\n",
       "    <tr>\n",
       "      <th>2013-05-24 00:04:00</th>\n",
       "      <td>418.725591</td>\n",
       "    </tr>\n",
       "    <tr>\n",
       "      <th>...</th>\n",
       "      <td>...</td>\n",
       "    </tr>\n",
       "    <tr>\n",
       "      <th>2013-08-05 15:29:00</th>\n",
       "      <td>507.936435</td>\n",
       "    </tr>\n",
       "    <tr>\n",
       "      <th>2013-08-05 15:30:00</th>\n",
       "      <td>537.798291</td>\n",
       "    </tr>\n",
       "    <tr>\n",
       "      <th>2013-08-05 15:31:00</th>\n",
       "      <td>636.553161</td>\n",
       "    </tr>\n",
       "    <tr>\n",
       "      <th>2013-08-05 15:32:00</th>\n",
       "      <td>694.195146</td>\n",
       "    </tr>\n",
       "    <tr>\n",
       "      <th>2013-08-05 15:33:00</th>\n",
       "      <td>634.317351</td>\n",
       "    </tr>\n",
       "  </tbody>\n",
       "</table>\n",
       "<p>106054 rows × 1 columns</p>\n",
       "</div>"
      ],
      "text/plain": [
       "                              W\n",
       "Timestamp                      \n",
       "2013-05-24 00:00:00  285.566998\n",
       "2013-05-24 00:01:00  284.513632\n",
       "2013-05-24 00:02:00  283.382776\n",
       "2013-05-24 00:03:00  419.192352\n",
       "2013-05-24 00:04:00  418.725591\n",
       "...                         ...\n",
       "2013-08-05 15:29:00  507.936435\n",
       "2013-08-05 15:30:00  537.798291\n",
       "2013-08-05 15:31:00  636.553161\n",
       "2013-08-05 15:32:00  694.195146\n",
       "2013-08-05 15:33:00  634.317351\n",
       "\n",
       "[106054 rows x 1 columns]"
      ]
     },
     "execution_count": 9,
     "metadata": {},
     "output_type": "execute_result"
    }
   ],
   "source": [
    "df"
   ]
  },
  {
   "cell_type": "code",
   "execution_count": 10,
   "id": "504ffc2d",
   "metadata": {},
   "outputs": [],
   "source": [
    "df = df.reset_index()"
   ]
  },
  {
   "cell_type": "code",
   "execution_count": 11,
   "id": "09b68734",
   "metadata": {},
   "outputs": [
    {
     "data": {
      "text/plain": [
       "(106054, 2)"
      ]
     },
     "execution_count": 11,
     "metadata": {},
     "output_type": "execute_result"
    }
   ],
   "source": [
    "df.shape"
   ]
  },
  {
   "cell_type": "code",
   "execution_count": 12,
   "id": "4537de44",
   "metadata": {},
   "outputs": [],
   "source": [
    "df['KW'] = df['W']/1000"
   ]
  },
  {
   "cell_type": "code",
   "execution_count": 13,
   "id": "54d9b7ad",
   "metadata": {},
   "outputs": [],
   "source": [
    "df.drop('W',axis=1,inplace=True)"
   ]
  },
  {
   "cell_type": "code",
   "execution_count": 14,
   "id": "08557ce4",
   "metadata": {},
   "outputs": [
    {
     "data": {
      "text/html": [
       "<div>\n",
       "<style scoped>\n",
       "    .dataframe tbody tr th:only-of-type {\n",
       "        vertical-align: middle;\n",
       "    }\n",
       "\n",
       "    .dataframe tbody tr th {\n",
       "        vertical-align: top;\n",
       "    }\n",
       "\n",
       "    .dataframe thead th {\n",
       "        text-align: right;\n",
       "    }\n",
       "</style>\n",
       "<table border=\"1\" class=\"dataframe\">\n",
       "  <thead>\n",
       "    <tr style=\"text-align: right;\">\n",
       "      <th></th>\n",
       "      <th>Timestamp</th>\n",
       "      <th>KW</th>\n",
       "      <th>Day</th>\n",
       "    </tr>\n",
       "  </thead>\n",
       "  <tbody>\n",
       "    <tr>\n",
       "      <th>0</th>\n",
       "      <td>2013-05-24 00:00:00</td>\n",
       "      <td>0.285567</td>\n",
       "      <td>4</td>\n",
       "    </tr>\n",
       "    <tr>\n",
       "      <th>1</th>\n",
       "      <td>2013-05-24 00:01:00</td>\n",
       "      <td>0.284514</td>\n",
       "      <td>4</td>\n",
       "    </tr>\n",
       "    <tr>\n",
       "      <th>2</th>\n",
       "      <td>2013-05-24 00:02:00</td>\n",
       "      <td>0.283383</td>\n",
       "      <td>4</td>\n",
       "    </tr>\n",
       "    <tr>\n",
       "      <th>3</th>\n",
       "      <td>2013-05-24 00:03:00</td>\n",
       "      <td>0.419192</td>\n",
       "      <td>4</td>\n",
       "    </tr>\n",
       "    <tr>\n",
       "      <th>4</th>\n",
       "      <td>2013-05-24 00:04:00</td>\n",
       "      <td>0.418726</td>\n",
       "      <td>4</td>\n",
       "    </tr>\n",
       "    <tr>\n",
       "      <th>...</th>\n",
       "      <td>...</td>\n",
       "      <td>...</td>\n",
       "      <td>...</td>\n",
       "    </tr>\n",
       "    <tr>\n",
       "      <th>106049</th>\n",
       "      <td>2013-08-05 15:29:00</td>\n",
       "      <td>0.507936</td>\n",
       "      <td>0</td>\n",
       "    </tr>\n",
       "    <tr>\n",
       "      <th>106050</th>\n",
       "      <td>2013-08-05 15:30:00</td>\n",
       "      <td>0.537798</td>\n",
       "      <td>0</td>\n",
       "    </tr>\n",
       "    <tr>\n",
       "      <th>106051</th>\n",
       "      <td>2013-08-05 15:31:00</td>\n",
       "      <td>0.636553</td>\n",
       "      <td>0</td>\n",
       "    </tr>\n",
       "    <tr>\n",
       "      <th>106052</th>\n",
       "      <td>2013-08-05 15:32:00</td>\n",
       "      <td>0.694195</td>\n",
       "      <td>0</td>\n",
       "    </tr>\n",
       "    <tr>\n",
       "      <th>106053</th>\n",
       "      <td>2013-08-05 15:33:00</td>\n",
       "      <td>0.634317</td>\n",
       "      <td>0</td>\n",
       "    </tr>\n",
       "  </tbody>\n",
       "</table>\n",
       "<p>106054 rows × 3 columns</p>\n",
       "</div>"
      ],
      "text/plain": [
       "                 Timestamp        KW  Day\n",
       "0      2013-05-24 00:00:00  0.285567    4\n",
       "1      2013-05-24 00:01:00  0.284514    4\n",
       "2      2013-05-24 00:02:00  0.283383    4\n",
       "3      2013-05-24 00:03:00  0.419192    4\n",
       "4      2013-05-24 00:04:00  0.418726    4\n",
       "...                    ...       ...  ...\n",
       "106049 2013-08-05 15:29:00  0.507936    0\n",
       "106050 2013-08-05 15:30:00  0.537798    0\n",
       "106051 2013-08-05 15:31:00  0.636553    0\n",
       "106052 2013-08-05 15:32:00  0.694195    0\n",
       "106053 2013-08-05 15:33:00  0.634317    0\n",
       "\n",
       "[106054 rows x 3 columns]"
      ]
     },
     "execution_count": 14,
     "metadata": {},
     "output_type": "execute_result"
    }
   ],
   "source": [
    "df['Day']=pd.to_datetime(df['Timestamp']).dt.dayofweek\n",
    "df"
   ]
  },
  {
   "cell_type": "code",
   "execution_count": 15,
   "id": "c0e195c0",
   "metadata": {},
   "outputs": [],
   "source": [
    "df['Hour']=pd.to_datetime(df['Timestamp']).dt.hour\n",
    "df['Minute']=pd.to_datetime(df['Timestamp']).dt.minute\n",
    "#df['Seconds']=pd.to_datetime(df['timestamp']).dt.second\n",
    "df.drop('Timestamp',axis=1,inplace=True)"
   ]
  },
  {
   "cell_type": "code",
   "execution_count": 16,
   "id": "3f0797b5",
   "metadata": {},
   "outputs": [
    {
     "data": {
      "text/html": [
       "<div>\n",
       "<style scoped>\n",
       "    .dataframe tbody tr th:only-of-type {\n",
       "        vertical-align: middle;\n",
       "    }\n",
       "\n",
       "    .dataframe tbody tr th {\n",
       "        vertical-align: top;\n",
       "    }\n",
       "\n",
       "    .dataframe thead th {\n",
       "        text-align: right;\n",
       "    }\n",
       "</style>\n",
       "<table border=\"1\" class=\"dataframe\">\n",
       "  <thead>\n",
       "    <tr style=\"text-align: right;\">\n",
       "      <th></th>\n",
       "      <th>KW</th>\n",
       "      <th>Day</th>\n",
       "      <th>Hour</th>\n",
       "      <th>Minute</th>\n",
       "    </tr>\n",
       "  </thead>\n",
       "  <tbody>\n",
       "    <tr>\n",
       "      <th>96480</th>\n",
       "      <td>0.400066</td>\n",
       "      <td>1</td>\n",
       "      <td>0</td>\n",
       "      <td>0</td>\n",
       "    </tr>\n",
       "    <tr>\n",
       "      <th>96481</th>\n",
       "      <td>0.399054</td>\n",
       "      <td>1</td>\n",
       "      <td>0</td>\n",
       "      <td>1</td>\n",
       "    </tr>\n",
       "    <tr>\n",
       "      <th>96482</th>\n",
       "      <td>0.396299</td>\n",
       "      <td>1</td>\n",
       "      <td>0</td>\n",
       "      <td>2</td>\n",
       "    </tr>\n",
       "    <tr>\n",
       "      <th>96483</th>\n",
       "      <td>0.384728</td>\n",
       "      <td>1</td>\n",
       "      <td>0</td>\n",
       "      <td>3</td>\n",
       "    </tr>\n",
       "    <tr>\n",
       "      <th>96484</th>\n",
       "      <td>0.384186</td>\n",
       "      <td>1</td>\n",
       "      <td>0</td>\n",
       "      <td>4</td>\n",
       "    </tr>\n",
       "    <tr>\n",
       "      <th>...</th>\n",
       "      <td>...</td>\n",
       "      <td>...</td>\n",
       "      <td>...</td>\n",
       "      <td>...</td>\n",
       "    </tr>\n",
       "    <tr>\n",
       "      <th>106049</th>\n",
       "      <td>0.507936</td>\n",
       "      <td>0</td>\n",
       "      <td>15</td>\n",
       "      <td>29</td>\n",
       "    </tr>\n",
       "    <tr>\n",
       "      <th>106050</th>\n",
       "      <td>0.537798</td>\n",
       "      <td>0</td>\n",
       "      <td>15</td>\n",
       "      <td>30</td>\n",
       "    </tr>\n",
       "    <tr>\n",
       "      <th>106051</th>\n",
       "      <td>0.636553</td>\n",
       "      <td>0</td>\n",
       "      <td>15</td>\n",
       "      <td>31</td>\n",
       "    </tr>\n",
       "    <tr>\n",
       "      <th>106052</th>\n",
       "      <td>0.694195</td>\n",
       "      <td>0</td>\n",
       "      <td>15</td>\n",
       "      <td>32</td>\n",
       "    </tr>\n",
       "    <tr>\n",
       "      <th>106053</th>\n",
       "      <td>0.634317</td>\n",
       "      <td>0</td>\n",
       "      <td>15</td>\n",
       "      <td>33</td>\n",
       "    </tr>\n",
       "  </tbody>\n",
       "</table>\n",
       "<p>9574 rows × 4 columns</p>\n",
       "</div>"
      ],
      "text/plain": [
       "              KW  Day  Hour  Minute\n",
       "96480   0.400066    1     0       0\n",
       "96481   0.399054    1     0       1\n",
       "96482   0.396299    1     0       2\n",
       "96483   0.384728    1     0       3\n",
       "96484   0.384186    1     0       4\n",
       "...          ...  ...   ...     ...\n",
       "106049  0.507936    0    15      29\n",
       "106050  0.537798    0    15      30\n",
       "106051  0.636553    0    15      31\n",
       "106052  0.694195    0    15      32\n",
       "106053  0.634317    0    15      33\n",
       "\n",
       "[9574 rows x 4 columns]"
      ]
     },
     "execution_count": 16,
     "metadata": {},
     "output_type": "execute_result"
    }
   ],
   "source": [
    "df.iloc[96480:,:]"
   ]
  },
  {
   "cell_type": "code",
   "execution_count": 17,
   "id": "8a688aa9",
   "metadata": {},
   "outputs": [],
   "source": [
    "df['KW']=pd.to_numeric(df['KW'], errors='coerce')"
   ]
  },
  {
   "cell_type": "code",
   "execution_count": 18,
   "id": "d65e1b15",
   "metadata": {},
   "outputs": [
    {
     "data": {
      "text/plain": [
       "dtype('float64')"
      ]
     },
     "execution_count": 18,
     "metadata": {},
     "output_type": "execute_result"
    }
   ],
   "source": [
    "df['KW'].dtype"
   ]
  },
  {
   "cell_type": "code",
   "execution_count": 19,
   "id": "d3072591",
   "metadata": {},
   "outputs": [
    {
     "data": {
      "text/html": [
       "<div>\n",
       "<style scoped>\n",
       "    .dataframe tbody tr th:only-of-type {\n",
       "        vertical-align: middle;\n",
       "    }\n",
       "\n",
       "    .dataframe tbody tr th {\n",
       "        vertical-align: top;\n",
       "    }\n",
       "\n",
       "    .dataframe thead th {\n",
       "        text-align: right;\n",
       "    }\n",
       "</style>\n",
       "<table border=\"1\" class=\"dataframe\">\n",
       "  <thead>\n",
       "    <tr style=\"text-align: right;\">\n",
       "      <th></th>\n",
       "      <th>KW</th>\n",
       "      <th>Day</th>\n",
       "      <th>Hour</th>\n",
       "      <th>Minute</th>\n",
       "    </tr>\n",
       "  </thead>\n",
       "  <tbody>\n",
       "    <tr>\n",
       "      <th>0</th>\n",
       "      <td>0.023085</td>\n",
       "      <td>0.666667</td>\n",
       "      <td>0.000000</td>\n",
       "      <td>0.000000</td>\n",
       "    </tr>\n",
       "    <tr>\n",
       "      <th>1</th>\n",
       "      <td>0.022962</td>\n",
       "      <td>0.666667</td>\n",
       "      <td>0.000000</td>\n",
       "      <td>0.016949</td>\n",
       "    </tr>\n",
       "    <tr>\n",
       "      <th>2</th>\n",
       "      <td>0.022829</td>\n",
       "      <td>0.666667</td>\n",
       "      <td>0.000000</td>\n",
       "      <td>0.033898</td>\n",
       "    </tr>\n",
       "    <tr>\n",
       "      <th>3</th>\n",
       "      <td>0.038796</td>\n",
       "      <td>0.666667</td>\n",
       "      <td>0.000000</td>\n",
       "      <td>0.050847</td>\n",
       "    </tr>\n",
       "    <tr>\n",
       "      <th>4</th>\n",
       "      <td>0.038741</td>\n",
       "      <td>0.666667</td>\n",
       "      <td>0.000000</td>\n",
       "      <td>0.067797</td>\n",
       "    </tr>\n",
       "    <tr>\n",
       "      <th>...</th>\n",
       "      <td>...</td>\n",
       "      <td>...</td>\n",
       "      <td>...</td>\n",
       "      <td>...</td>\n",
       "    </tr>\n",
       "    <tr>\n",
       "      <th>106049</th>\n",
       "      <td>0.049229</td>\n",
       "      <td>0.000000</td>\n",
       "      <td>0.652174</td>\n",
       "      <td>0.491525</td>\n",
       "    </tr>\n",
       "    <tr>\n",
       "      <th>106050</th>\n",
       "      <td>0.052740</td>\n",
       "      <td>0.000000</td>\n",
       "      <td>0.652174</td>\n",
       "      <td>0.508475</td>\n",
       "    </tr>\n",
       "    <tr>\n",
       "      <th>106051</th>\n",
       "      <td>0.064351</td>\n",
       "      <td>0.000000</td>\n",
       "      <td>0.652174</td>\n",
       "      <td>0.525424</td>\n",
       "    </tr>\n",
       "    <tr>\n",
       "      <th>106052</th>\n",
       "      <td>0.071127</td>\n",
       "      <td>0.000000</td>\n",
       "      <td>0.652174</td>\n",
       "      <td>0.542373</td>\n",
       "    </tr>\n",
       "    <tr>\n",
       "      <th>106053</th>\n",
       "      <td>0.064088</td>\n",
       "      <td>0.000000</td>\n",
       "      <td>0.652174</td>\n",
       "      <td>0.559322</td>\n",
       "    </tr>\n",
       "  </tbody>\n",
       "</table>\n",
       "<p>106054 rows × 4 columns</p>\n",
       "</div>"
      ],
      "text/plain": [
       "              KW       Day      Hour    Minute\n",
       "0       0.023085  0.666667  0.000000  0.000000\n",
       "1       0.022962  0.666667  0.000000  0.016949\n",
       "2       0.022829  0.666667  0.000000  0.033898\n",
       "3       0.038796  0.666667  0.000000  0.050847\n",
       "4       0.038741  0.666667  0.000000  0.067797\n",
       "...          ...       ...       ...       ...\n",
       "106049  0.049229  0.000000  0.652174  0.491525\n",
       "106050  0.052740  0.000000  0.652174  0.508475\n",
       "106051  0.064351  0.000000  0.652174  0.525424\n",
       "106052  0.071127  0.000000  0.652174  0.542373\n",
       "106053  0.064088  0.000000  0.652174  0.559322\n",
       "\n",
       "[106054 rows x 4 columns]"
      ]
     },
     "execution_count": 19,
     "metadata": {},
     "output_type": "execute_result"
    }
   ],
   "source": [
    "scaler = MinMaxScaler(feature_range=(0,1))\n",
    "df_1=scaler.fit_transform(df)\n",
    "df_scaled = pd.DataFrame(df_1,columns=df.columns)\n",
    "df_scaled"
   ]
  },
  {
   "cell_type": "code",
   "execution_count": 20,
   "id": "c2825cdc",
   "metadata": {},
   "outputs": [],
   "source": [
    "X=df_scaled.drop('KW',axis=1)\n",
    "y=df_scaled['KW']"
   ]
  },
  {
   "cell_type": "code",
   "execution_count": 21,
   "id": "eebcc623",
   "metadata": {},
   "outputs": [],
   "source": [
    "X = np.asarray(X).astype(np.float32)\n",
    "y= np.asarray(y).astype(np.float32)"
   ]
  },
  {
   "cell_type": "code",
   "execution_count": 26,
   "id": "15c16eb7",
   "metadata": {},
   "outputs": [],
   "source": [
    "df1 = df[df.isna().any(axis=1)]"
   ]
  },
  {
   "cell_type": "code",
   "execution_count": 27,
   "id": "c0cba444",
   "metadata": {},
   "outputs": [
    {
     "data": {
      "text/html": [
       "<div>\n",
       "<style scoped>\n",
       "    .dataframe tbody tr th:only-of-type {\n",
       "        vertical-align: middle;\n",
       "    }\n",
       "\n",
       "    .dataframe tbody tr th {\n",
       "        vertical-align: top;\n",
       "    }\n",
       "\n",
       "    .dataframe thead th {\n",
       "        text-align: right;\n",
       "    }\n",
       "</style>\n",
       "<table border=\"1\" class=\"dataframe\">\n",
       "  <thead>\n",
       "    <tr style=\"text-align: right;\">\n",
       "      <th></th>\n",
       "      <th>KW</th>\n",
       "      <th>Day</th>\n",
       "      <th>Hour</th>\n",
       "      <th>Minute</th>\n",
       "    </tr>\n",
       "  </thead>\n",
       "  <tbody>\n",
       "    <tr>\n",
       "      <th>104</th>\n",
       "      <td>NaN</td>\n",
       "      <td>4</td>\n",
       "      <td>1</td>\n",
       "      <td>44</td>\n",
       "    </tr>\n",
       "    <tr>\n",
       "      <th>105</th>\n",
       "      <td>NaN</td>\n",
       "      <td>4</td>\n",
       "      <td>1</td>\n",
       "      <td>45</td>\n",
       "    </tr>\n",
       "    <tr>\n",
       "      <th>106</th>\n",
       "      <td>NaN</td>\n",
       "      <td>4</td>\n",
       "      <td>1</td>\n",
       "      <td>46</td>\n",
       "    </tr>\n",
       "    <tr>\n",
       "      <th>107</th>\n",
       "      <td>NaN</td>\n",
       "      <td>4</td>\n",
       "      <td>1</td>\n",
       "      <td>47</td>\n",
       "    </tr>\n",
       "    <tr>\n",
       "      <th>108</th>\n",
       "      <td>NaN</td>\n",
       "      <td>4</td>\n",
       "      <td>1</td>\n",
       "      <td>48</td>\n",
       "    </tr>\n",
       "    <tr>\n",
       "      <th>...</th>\n",
       "      <td>...</td>\n",
       "      <td>...</td>\n",
       "      <td>...</td>\n",
       "      <td>...</td>\n",
       "    </tr>\n",
       "    <tr>\n",
       "      <th>104087</th>\n",
       "      <td>NaN</td>\n",
       "      <td>6</td>\n",
       "      <td>6</td>\n",
       "      <td>47</td>\n",
       "    </tr>\n",
       "    <tr>\n",
       "      <th>104088</th>\n",
       "      <td>NaN</td>\n",
       "      <td>6</td>\n",
       "      <td>6</td>\n",
       "      <td>48</td>\n",
       "    </tr>\n",
       "    <tr>\n",
       "      <th>104089</th>\n",
       "      <td>NaN</td>\n",
       "      <td>6</td>\n",
       "      <td>6</td>\n",
       "      <td>49</td>\n",
       "    </tr>\n",
       "    <tr>\n",
       "      <th>104753</th>\n",
       "      <td>NaN</td>\n",
       "      <td>6</td>\n",
       "      <td>17</td>\n",
       "      <td>53</td>\n",
       "    </tr>\n",
       "    <tr>\n",
       "      <th>104754</th>\n",
       "      <td>NaN</td>\n",
       "      <td>6</td>\n",
       "      <td>17</td>\n",
       "      <td>54</td>\n",
       "    </tr>\n",
       "  </tbody>\n",
       "</table>\n",
       "<p>6568 rows × 4 columns</p>\n",
       "</div>"
      ],
      "text/plain": [
       "        KW  Day  Hour  Minute\n",
       "104    NaN    4     1      44\n",
       "105    NaN    4     1      45\n",
       "106    NaN    4     1      46\n",
       "107    NaN    4     1      47\n",
       "108    NaN    4     1      48\n",
       "...     ..  ...   ...     ...\n",
       "104087 NaN    6     6      47\n",
       "104088 NaN    6     6      48\n",
       "104089 NaN    6     6      49\n",
       "104753 NaN    6    17      53\n",
       "104754 NaN    6    17      54\n",
       "\n",
       "[6568 rows x 4 columns]"
      ]
     },
     "execution_count": 27,
     "metadata": {},
     "output_type": "execute_result"
    }
   ],
   "source": [
    "df1"
   ]
  },
  {
   "cell_type": "code",
   "execution_count": 28,
   "id": "42de259e",
   "metadata": {},
   "outputs": [],
   "source": [
    "df_scaled.dropna(inplace=True)"
   ]
  },
  {
   "cell_type": "code",
   "execution_count": 29,
   "id": "782e2322",
   "metadata": {},
   "outputs": [
    {
     "data": {
      "text/plain": [
       "KW        0\n",
       "Day       0\n",
       "Hour      0\n",
       "Minute    0\n",
       "dtype: int64"
      ]
     },
     "execution_count": 29,
     "metadata": {},
     "output_type": "execute_result"
    }
   ],
   "source": [
    "df_scaled.isnull().sum()"
   ]
  },
  {
   "cell_type": "code",
   "execution_count": 30,
   "id": "f7a01e4e",
   "metadata": {},
   "outputs": [
    {
     "data": {
      "text/plain": [
       "(99486, 4)"
      ]
     },
     "execution_count": 30,
     "metadata": {},
     "output_type": "execute_result"
    }
   ],
   "source": [
    "df_scaled.shape"
   ]
  },
  {
   "cell_type": "code",
   "execution_count": 31,
   "id": "7d3129d2",
   "metadata": {},
   "outputs": [
    {
     "data": {
      "text/html": [
       "<div>\n",
       "<style scoped>\n",
       "    .dataframe tbody tr th:only-of-type {\n",
       "        vertical-align: middle;\n",
       "    }\n",
       "\n",
       "    .dataframe tbody tr th {\n",
       "        vertical-align: top;\n",
       "    }\n",
       "\n",
       "    .dataframe thead th {\n",
       "        text-align: right;\n",
       "    }\n",
       "</style>\n",
       "<table border=\"1\" class=\"dataframe\">\n",
       "  <thead>\n",
       "    <tr style=\"text-align: right;\">\n",
       "      <th></th>\n",
       "      <th>KW</th>\n",
       "      <th>Day</th>\n",
       "      <th>Hour</th>\n",
       "      <th>Minute</th>\n",
       "    </tr>\n",
       "  </thead>\n",
       "  <tbody>\n",
       "    <tr>\n",
       "      <th>96480</th>\n",
       "      <td>0.036547</td>\n",
       "      <td>0.166667</td>\n",
       "      <td>0.000000</td>\n",
       "      <td>0.000000</td>\n",
       "    </tr>\n",
       "    <tr>\n",
       "      <th>96481</th>\n",
       "      <td>0.036428</td>\n",
       "      <td>0.166667</td>\n",
       "      <td>0.000000</td>\n",
       "      <td>0.016949</td>\n",
       "    </tr>\n",
       "    <tr>\n",
       "      <th>96482</th>\n",
       "      <td>0.036104</td>\n",
       "      <td>0.166667</td>\n",
       "      <td>0.000000</td>\n",
       "      <td>0.033898</td>\n",
       "    </tr>\n",
       "    <tr>\n",
       "      <th>96483</th>\n",
       "      <td>0.034744</td>\n",
       "      <td>0.166667</td>\n",
       "      <td>0.000000</td>\n",
       "      <td>0.050847</td>\n",
       "    </tr>\n",
       "    <tr>\n",
       "      <th>96484</th>\n",
       "      <td>0.034680</td>\n",
       "      <td>0.166667</td>\n",
       "      <td>0.000000</td>\n",
       "      <td>0.067797</td>\n",
       "    </tr>\n",
       "    <tr>\n",
       "      <th>...</th>\n",
       "      <td>...</td>\n",
       "      <td>...</td>\n",
       "      <td>...</td>\n",
       "      <td>...</td>\n",
       "    </tr>\n",
       "    <tr>\n",
       "      <th>106049</th>\n",
       "      <td>0.049229</td>\n",
       "      <td>0.000000</td>\n",
       "      <td>0.652174</td>\n",
       "      <td>0.491525</td>\n",
       "    </tr>\n",
       "    <tr>\n",
       "      <th>106050</th>\n",
       "      <td>0.052740</td>\n",
       "      <td>0.000000</td>\n",
       "      <td>0.652174</td>\n",
       "      <td>0.508475</td>\n",
       "    </tr>\n",
       "    <tr>\n",
       "      <th>106051</th>\n",
       "      <td>0.064351</td>\n",
       "      <td>0.000000</td>\n",
       "      <td>0.652174</td>\n",
       "      <td>0.525424</td>\n",
       "    </tr>\n",
       "    <tr>\n",
       "      <th>106052</th>\n",
       "      <td>0.071127</td>\n",
       "      <td>0.000000</td>\n",
       "      <td>0.652174</td>\n",
       "      <td>0.542373</td>\n",
       "    </tr>\n",
       "    <tr>\n",
       "      <th>106053</th>\n",
       "      <td>0.064088</td>\n",
       "      <td>0.000000</td>\n",
       "      <td>0.652174</td>\n",
       "      <td>0.559322</td>\n",
       "    </tr>\n",
       "  </tbody>\n",
       "</table>\n",
       "<p>9293 rows × 4 columns</p>\n",
       "</div>"
      ],
      "text/plain": [
       "              KW       Day      Hour    Minute\n",
       "96480   0.036547  0.166667  0.000000  0.000000\n",
       "96481   0.036428  0.166667  0.000000  0.016949\n",
       "96482   0.036104  0.166667  0.000000  0.033898\n",
       "96483   0.034744  0.166667  0.000000  0.050847\n",
       "96484   0.034680  0.166667  0.000000  0.067797\n",
       "...          ...       ...       ...       ...\n",
       "106049  0.049229  0.000000  0.652174  0.491525\n",
       "106050  0.052740  0.000000  0.652174  0.508475\n",
       "106051  0.064351  0.000000  0.652174  0.525424\n",
       "106052  0.071127  0.000000  0.652174  0.542373\n",
       "106053  0.064088  0.000000  0.652174  0.559322\n",
       "\n",
       "[9293 rows x 4 columns]"
      ]
     },
     "execution_count": 31,
     "metadata": {},
     "output_type": "execute_result"
    }
   ],
   "source": [
    "df_scaled.iloc[90193:,:]"
   ]
  },
  {
   "cell_type": "code",
   "execution_count": 32,
   "id": "2a39af6a",
   "metadata": {},
   "outputs": [
    {
     "name": "stdout",
     "output_type": "stream",
     "text": [
      "(90193, 3) (90193,) (9293, 3) (9293,)\n"
     ]
    }
   ],
   "source": [
    "training_size=int(len(df_scaled)*0.906589872)\n",
    "test_size=len(df_scaled)-training_size\n",
    "X_train,y_train,X_test,y_test=df_scaled.iloc[0:training_size,1:4],df_scaled.iloc[0:training_size,0],df_scaled.iloc[training_size:len(df_scaled),1:4],df_scaled.iloc[training_size:len(df_scaled),0]\n",
    "X_train=X_train.to_numpy()\n",
    "y_train=y_train.to_numpy()\n",
    "X_test=X_test.to_numpy()\n",
    "y_test=y_test.to_numpy()\n",
    "print(X_train.shape,y_train.shape,X_test.shape,y_test.shape)"
   ]
  },
  {
   "cell_type": "code",
   "execution_count": 33,
   "id": "47677628",
   "metadata": {},
   "outputs": [],
   "source": [
    "X_train = X_train.reshape(X_train.shape[0], 1, X_train.shape[1])\n",
    "X_test  = X_test.reshape(X_test.shape[0], 1, X_test.shape[1])\n",
    "#y_train = y_train.reshape(-1, 1, 1)\n",
    "#y_test = y_test.reshape(-1, 1, 1)"
   ]
  },
  {
   "cell_type": "code",
   "execution_count": 34,
   "id": "60b5a0d4",
   "metadata": {},
   "outputs": [
    {
     "name": "stdout",
     "output_type": "stream",
     "text": [
      "Model: \"sequential\"\n",
      "_________________________________________________________________\n",
      "Layer (type)                 Output Shape              Param #   \n",
      "=================================================================\n",
      "lstm (LSTM)                  (None, 1, 50)             10800     \n",
      "_________________________________________________________________\n",
      "lstm_1 (LSTM)                (None, 50)                20200     \n",
      "_________________________________________________________________\n",
      "dense (Dense)                (None, 1)                 51        \n",
      "=================================================================\n",
      "Total params: 31,051\n",
      "Trainable params: 31,051\n",
      "Non-trainable params: 0\n",
      "_________________________________________________________________\n"
     ]
    }
   ],
   "source": [
    "model=Sequential()\n",
    "model.add(LSTM(50,return_sequences=True,input_shape=(1,3)))\n",
    "model.add(LSTM(50))\n",
    "model.add(Dense(1))\n",
    "model.compile(loss='mean_squared_error',optimizer='adam')\n",
    "model.summary()"
   ]
  },
  {
   "cell_type": "code",
   "execution_count": 35,
   "id": "b2e37cf3",
   "metadata": {},
   "outputs": [
    {
     "name": "stdout",
     "output_type": "stream",
     "text": [
      "Epoch 1/50\n",
      "353/353 [==============================] - 12s 11ms/step - loss: 0.0145 - val_loss: 0.0097\n",
      "Epoch 2/50\n",
      "353/353 [==============================] - 3s 8ms/step - loss: 0.0142 - val_loss: 0.0097\n",
      "Epoch 3/50\n",
      "353/353 [==============================] - 3s 8ms/step - loss: 0.0142 - val_loss: 0.0098\n",
      "Epoch 4/50\n",
      "353/353 [==============================] - 3s 8ms/step - loss: 0.0141 - val_loss: 0.0102\n",
      "Epoch 5/50\n",
      "353/353 [==============================] - 2s 7ms/step - loss: 0.0139 - val_loss: 0.0092\n",
      "Epoch 6/50\n",
      "353/353 [==============================] - 2s 7ms/step - loss: 0.0134 - val_loss: 0.0091\n",
      "Epoch 7/50\n",
      "353/353 [==============================] - 2s 7ms/step - loss: 0.0120 - val_loss: 0.0082\n",
      "Epoch 8/50\n",
      "353/353 [==============================] - 3s 7ms/step - loss: 0.0115 - val_loss: 0.0081\n",
      "Epoch 9/50\n",
      "353/353 [==============================] - 3s 7ms/step - loss: 0.0112 - val_loss: 0.0078\n",
      "Epoch 10/50\n",
      "353/353 [==============================] - 3s 7ms/step - loss: 0.0107 - val_loss: 0.0072\n",
      "Epoch 11/50\n",
      "353/353 [==============================] - 3s 7ms/step - loss: 0.0100 - val_loss: 0.0066\n",
      "Epoch 12/50\n",
      "353/353 [==============================] - 3s 9ms/step - loss: 0.0095 - val_loss: 0.0061\n",
      "Epoch 13/50\n",
      "353/353 [==============================] - 3s 9ms/step - loss: 0.0091 - val_loss: 0.0060\n",
      "Epoch 14/50\n",
      "353/353 [==============================] - 3s 9ms/step - loss: 0.0089 - val_loss: 0.0056\n",
      "Epoch 15/50\n",
      "353/353 [==============================] - 2s 7ms/step - loss: 0.0088 - val_loss: 0.0057\n",
      "Epoch 16/50\n",
      "353/353 [==============================] - 2s 6ms/step - loss: 0.0086 - val_loss: 0.0058\n",
      "Epoch 17/50\n",
      "353/353 [==============================] - 3s 8ms/step - loss: 0.0085 - val_loss: 0.0052\n",
      "Epoch 18/50\n",
      "353/353 [==============================] - 3s 7ms/step - loss: 0.0083 - val_loss: 0.0050\n",
      "Epoch 19/50\n",
      "353/353 [==============================] - 3s 8ms/step - loss: 0.0083 - val_loss: 0.0047\n",
      "Epoch 20/50\n",
      "353/353 [==============================] - 3s 8ms/step - loss: 0.0082 - val_loss: 0.0049\n",
      "Epoch 21/50\n",
      "353/353 [==============================] - 2s 7ms/step - loss: 0.0082 - val_loss: 0.0046\n",
      "Epoch 22/50\n",
      "353/353 [==============================] - 2s 6ms/step - loss: 0.0082 - val_loss: 0.0050\n",
      "Epoch 23/50\n",
      "353/353 [==============================] - 3s 8ms/step - loss: 0.0081 - val_loss: 0.0047\n",
      "Epoch 24/50\n",
      "353/353 [==============================] - 3s 7ms/step - loss: 0.0081 - val_loss: 0.0047\n",
      "Epoch 25/50\n",
      "353/353 [==============================] - 3s 8ms/step - loss: 0.0081 - val_loss: 0.0046\n",
      "Epoch 26/50\n",
      "353/353 [==============================] - 3s 8ms/step - loss: 0.0081 - val_loss: 0.0046\n",
      "Epoch 27/50\n",
      "353/353 [==============================] - 3s 8ms/step - loss: 0.0081 - val_loss: 0.0049\n",
      "Epoch 28/50\n",
      "353/353 [==============================] - 3s 8ms/step - loss: 0.0081 - val_loss: 0.0047\n",
      "Epoch 29/50\n",
      "353/353 [==============================] - 3s 8ms/step - loss: 0.0081 - val_loss: 0.0049\n",
      "Epoch 30/50\n",
      "353/353 [==============================] - 2s 7ms/step - loss: 0.0081 - val_loss: 0.0047\n",
      "Epoch 31/50\n",
      "353/353 [==============================] - 3s 8ms/step - loss: 0.0081 - val_loss: 0.0049\n",
      "Epoch 32/50\n",
      "353/353 [==============================] - 3s 8ms/step - loss: 0.0081 - val_loss: 0.0049\n",
      "Epoch 33/50\n",
      "353/353 [==============================] - 3s 10ms/step - loss: 0.0081 - val_loss: 0.0050\n",
      "Epoch 34/50\n",
      "353/353 [==============================] - 3s 8ms/step - loss: 0.0081 - val_loss: 0.0049\n",
      "Epoch 35/50\n",
      "353/353 [==============================] - 3s 7ms/step - loss: 0.0080 - val_loss: 0.0049\n",
      "Epoch 36/50\n",
      "353/353 [==============================] - 3s 7ms/step - loss: 0.0081 - val_loss: 0.0048\n",
      "Epoch 37/50\n",
      "353/353 [==============================] - 3s 9ms/step - loss: 0.0081 - val_loss: 0.0051\n",
      "Epoch 38/50\n",
      "353/353 [==============================] - 3s 8ms/step - loss: 0.0081 - val_loss: 0.0046\n",
      "Epoch 39/50\n",
      "353/353 [==============================] - 3s 8ms/step - loss: 0.0081 - val_loss: 0.0051\n",
      "Epoch 40/50\n",
      "353/353 [==============================] - 3s 9ms/step - loss: 0.0081 - val_loss: 0.0050\n",
      "Epoch 41/50\n",
      "353/353 [==============================] - 3s 8ms/step - loss: 0.0080 - val_loss: 0.0046\n",
      "Epoch 42/50\n",
      "353/353 [==============================] - 3s 8ms/step - loss: 0.0080 - val_loss: 0.0051\n",
      "Epoch 43/50\n",
      "353/353 [==============================] - 3s 7ms/step - loss: 0.0080 - val_loss: 0.0047\n",
      "Epoch 44/50\n",
      "353/353 [==============================] - 3s 7ms/step - loss: 0.0081 - val_loss: 0.0050\n",
      "Epoch 45/50\n",
      "353/353 [==============================] - 3s 7ms/step - loss: 0.0080 - val_loss: 0.0050\n",
      "Epoch 46/50\n",
      "353/353 [==============================] - 3s 7ms/step - loss: 0.0081 - val_loss: 0.0050\n",
      "Epoch 47/50\n",
      "353/353 [==============================] - 3s 9ms/step - loss: 0.0081 - val_loss: 0.0044\n",
      "Epoch 48/50\n",
      "353/353 [==============================] - 3s 8ms/step - loss: 0.0080 - val_loss: 0.0053\n",
      "Epoch 49/50\n",
      "353/353 [==============================] - 3s 8ms/step - loss: 0.0080 - val_loss: 0.0045\n",
      "Epoch 50/50\n",
      "353/353 [==============================] - 4s 10ms/step - loss: 0.0080 - val_loss: 0.0049\n"
     ]
    }
   ],
   "source": [
    "model_history=model.fit(X_train, y_train, batch_size = 256,epochs = 50, validation_data=(X_test,y_test),verbose=1)"
   ]
  },
  {
   "cell_type": "code",
   "execution_count": 36,
   "id": "4df2c624",
   "metadata": {},
   "outputs": [
    {
     "data": {
      "image/png": "[encoded data removed]",
      "text/plain": [
       "<Figure size 1080x576 with 1 Axes>"
      ]
     },
     "metadata": {
      "needs_background": "light"
     },
     "output_type": "display_data"
    }
   ],
   "source": [
    "plt.figure(figsize=(15,8))\n",
    "plt.plot(model_history.history['loss'],linewidth=5)\n",
    "plt.plot(model_history.history['val_loss'],linewidth=5)\n",
    "#plt.title('Model loss',fontsize=35,fontname=\"Times New Roman\",fontweight=\"bold\")\n",
    "plt.ylabel('Loss',fontsize=35,fontname=\"Times New Roman\",fontweight=\"bold\")\n",
    "plt.xlabel('Epoch',fontsize=35,fontname=\"Times New Roman\",fontweight=\"bold\")\n",
    "plt.legend(['train', 'test'], loc='upper right',fontsize=25)\n",
    "plt.xticks(fontsize=30)\n",
    "plt.yticks(fontsize=30)\n",
    "plt.grid()\n",
    "plt.savefig('H_Model.png')\n",
    "plt.savefig('H_Model.pdf')\n",
    "plt.show()"
   ]
  },
  {
   "cell_type": "code",
   "execution_count": 37,
   "id": "c955e6c6",
   "metadata": {},
   "outputs": [],
   "source": [
    "size = df.shape[1]"
   ]
  },
  {
   "cell_type": "code",
   "execution_count": 38,
   "id": "226fcf75",
   "metadata": {},
   "outputs": [
    {
     "data": {
      "text/plain": [
       "4"
      ]
     },
     "execution_count": 38,
     "metadata": {},
     "output_type": "execute_result"
    }
   ],
   "source": [
    "size"
   ]
  },
  {
   "cell_type": "code",
   "execution_count": 39,
   "id": "7a04e357",
   "metadata": {},
   "outputs": [
    {
     "data": {
      "text/plain": [
       "(9293, 1, 3)"
      ]
     },
     "execution_count": 39,
     "metadata": {},
     "output_type": "execute_result"
    }
   ],
   "source": [
    "X_test.shape"
   ]
  },
  {
   "cell_type": "code",
   "execution_count": 40,
   "id": "a2e54837",
   "metadata": {},
   "outputs": [],
   "source": [
    "yhat = model.predict(X_test)"
   ]
  },
  {
   "cell_type": "code",
   "execution_count": 41,
   "id": "2a41f247",
   "metadata": {},
   "outputs": [],
   "source": [
    "X_test = X_test.reshape(X_test.shape[0], X_test.shape[2])"
   ]
  },
  {
   "cell_type": "code",
   "execution_count": 42,
   "id": "c2bc6fef",
   "metadata": {},
   "outputs": [
    {
     "data": {
      "text/plain": [
       "(9293,)"
      ]
     },
     "execution_count": 42,
     "metadata": {},
     "output_type": "execute_result"
    }
   ],
   "source": [
    "inv_yhat = np.concatenate((yhat, X_test[:, 1-size:]), axis=1)\n",
    "inv_yhat = scaler.inverse_transform(inv_yhat)\n",
    "inv_yhat = inv_yhat[:,0]\n",
    "inv_yhat.shape"
   ]
  },
  {
   "cell_type": "code",
   "execution_count": 43,
   "id": "8d46a7f3",
   "metadata": {},
   "outputs": [
    {
     "data": {
      "text/plain": [
       "(9293,)"
      ]
     },
     "execution_count": 43,
     "metadata": {},
     "output_type": "execute_result"
    }
   ],
   "source": [
    "# invert scaling for actual\n",
    "y_test = y_test.reshape((len(y_test), 1))\n",
    "inv_y = np.concatenate((y_test, X_test[:, 1-size:]), axis=1)\n",
    "inv_y = scaler.inverse_transform(inv_y)\n",
    "inv_y = inv_y[:,0]\n",
    "inv_y.shape"
   ]
  },
  {
   "cell_type": "code",
   "execution_count": 44,
   "id": "55f06cb5",
   "metadata": {},
   "outputs": [
    {
     "name": "stdout",
     "output_type": "stream",
     "text": [
      "Test RMSE: 0.593\n"
     ]
    }
   ],
   "source": [
    "rmse = np.sqrt(mean_squared_error(inv_y, inv_yhat))\n",
    "print('Test RMSE: %.3f' % rmse)"
   ]
  },
  {
   "cell_type": "code",
   "execution_count": 45,
   "id": "d8d701c6",
   "metadata": {},
   "outputs": [],
   "source": [
    "from sklearn.metrics import mean_absolute_percentage_error"
   ]
  },
  {
   "cell_type": "code",
   "execution_count": 47,
   "id": "296a7cbe",
   "metadata": {},
   "outputs": [],
   "source": [
    "mape = mean_absolute_percentage_error(inv_y,inv_yhat)"
   ]
  },
  {
   "cell_type": "code",
   "execution_count": 48,
   "id": "32e745d5",
   "metadata": {},
   "outputs": [
    {
     "data": {
      "text/plain": [
       "0.6083841931408592"
      ]
     },
     "execution_count": 48,
     "metadata": {},
     "output_type": "execute_result"
    }
   ],
   "source": [
    "mape"
   ]
  },
  {
   "cell_type": "code",
   "execution_count": 85,
   "id": "7e7447fb",
   "metadata": {},
   "outputs": [
    {
     "data": {
      "image/png": "[encoded data removed]",
      "text/plain": [
       "<Figure size 2880x1008 with 1 Axes>"
      ]
     },
     "metadata": {
      "needs_background": "light"
     },
     "output_type": "display_data"
    }
   ],
   "source": [
    "y=0\n",
    "for i in range(9000,10080,9000):\n",
    "    aa=[x for x in range(y,i)]\n",
    "    plt.figure(figsize=(40,14)) \n",
    "    plt.plot(aa, inv_y[y:i], marker='.', label=\"Actual\",linewidth=5 )\n",
    "    plt.plot(aa, inv_yhat[y:i], 'r', label=\"Prediction\",linewidth=5)\n",
    "    y = i\n",
    "    plt.title('Actual vs Predicted', size=50,fontname=\"Times New Roman\",fontweight=\"bold\")\n",
    "    plt.ylabel('Power (kW)', size=50,fontname=\"Times New Roman\",fontweight=\"bold\")\n",
    "    plt.xlabel('Time (min)', size=50,fontname=\"Times New Roman\",fontweight=\"bold\")\n",
    "    plt.legend(fontsize=40)\n",
    "    plt.xticks(fontsize=40)\n",
    "    plt.yticks(fontsize=40)\n",
    "    plt.grid()\n",
    "    plt.savefig('H_pred.pdf')\n",
    "    plt.savefig('H_pred.png')\n",
    "    plt.show()"
   ]
  },
  {
   "cell_type": "code",
   "execution_count": 42,
   "id": "1fe43402",
   "metadata": {},
   "outputs": [
    {
     "data": {
      "text/plain": [
       "108.50449679623372"
      ]
     },
     "execution_count": 42,
     "metadata": {},
     "output_type": "execute_result"
    }
   ],
   "source": [
    "inv_y.sum()/60"
   ]
  },
  {
   "cell_type": "code",
   "execution_count": 43,
   "id": "bd2a31d9",
   "metadata": {},
   "outputs": [
    {
     "data": {
      "text/plain": [
       "124.82220724340463"
      ]
     },
     "execution_count": 43,
     "metadata": {},
     "output_type": "execute_result"
    }
   ],
   "source": [
    "inv_yhat.sum()/60"
   ]
  },
  {
   "cell_type": "code",
   "execution_count": 44,
   "id": "5eeae10c",
   "metadata": {},
   "outputs": [
    {
     "data": {
      "text/plain": [
       "array([[0.16666667, 0.        , 0.        ],\n",
       "       [0.16666667, 0.        , 0.01694915],\n",
       "       [0.16666667, 0.        , 0.03389831],\n",
       "       ...,\n",
       "       [0.        , 0.65217391, 0.52542373],\n",
       "       [0.        , 0.65217391, 0.54237288],\n",
       "       [0.        , 0.65217391, 0.55932203]])"
      ]
     },
     "execution_count": 44,
     "metadata": {},
     "output_type": "execute_result"
    }
   ],
   "source": [
    "X_test"
   ]
  },
  {
   "cell_type": "code",
   "execution_count": 45,
   "id": "21ed06ca",
   "metadata": {},
   "outputs": [],
   "source": [
    "actual = pd.DataFrame(inv_y,columns=['Actual'])"
   ]
  },
  {
   "cell_type": "code",
   "execution_count": 46,
   "id": "b1730659",
   "metadata": {},
   "outputs": [],
   "source": [
    "predict = pd.DataFrame(inv_yhat,columns=['Predict'])"
   ]
  },
  {
   "cell_type": "code",
   "execution_count": 47,
   "id": "d47de7e9",
   "metadata": {},
   "outputs": [
    {
     "data": {
      "text/html": [
       "<div>\n",
       "<style scoped>\n",
       "    .dataframe tbody tr th:only-of-type {\n",
       "        vertical-align: middle;\n",
       "    }\n",
       "\n",
       "    .dataframe tbody tr th {\n",
       "        vertical-align: top;\n",
       "    }\n",
       "\n",
       "    .dataframe thead th {\n",
       "        text-align: right;\n",
       "    }\n",
       "</style>\n",
       "<table border=\"1\" class=\"dataframe\">\n",
       "  <thead>\n",
       "    <tr style=\"text-align: right;\">\n",
       "      <th></th>\n",
       "      <th>Predict</th>\n",
       "    </tr>\n",
       "  </thead>\n",
       "  <tbody>\n",
       "    <tr>\n",
       "      <th>0</th>\n",
       "      <td>0.448543</td>\n",
       "    </tr>\n",
       "    <tr>\n",
       "      <th>1</th>\n",
       "      <td>0.448640</td>\n",
       "    </tr>\n",
       "    <tr>\n",
       "      <th>2</th>\n",
       "      <td>0.448747</td>\n",
       "    </tr>\n",
       "    <tr>\n",
       "      <th>3</th>\n",
       "      <td>0.448864</td>\n",
       "    </tr>\n",
       "    <tr>\n",
       "      <th>4</th>\n",
       "      <td>0.448990</td>\n",
       "    </tr>\n",
       "    <tr>\n",
       "      <th>...</th>\n",
       "      <td>...</td>\n",
       "    </tr>\n",
       "    <tr>\n",
       "      <th>9288</th>\n",
       "      <td>2.553568</td>\n",
       "    </tr>\n",
       "    <tr>\n",
       "      <th>9289</th>\n",
       "      <td>2.586432</td>\n",
       "    </tr>\n",
       "    <tr>\n",
       "      <th>9290</th>\n",
       "      <td>2.619200</td>\n",
       "    </tr>\n",
       "    <tr>\n",
       "      <th>9291</th>\n",
       "      <td>2.651846</td>\n",
       "    </tr>\n",
       "    <tr>\n",
       "      <th>9292</th>\n",
       "      <td>2.684351</td>\n",
       "    </tr>\n",
       "  </tbody>\n",
       "</table>\n",
       "<p>9293 rows × 1 columns</p>\n",
       "</div>"
      ],
      "text/plain": [
       "       Predict\n",
       "0     0.448543\n",
       "1     0.448640\n",
       "2     0.448747\n",
       "3     0.448864\n",
       "4     0.448990\n",
       "...        ...\n",
       "9288  2.553568\n",
       "9289  2.586432\n",
       "9290  2.619200\n",
       "9291  2.651846\n",
       "9292  2.684351\n",
       "\n",
       "[9293 rows x 1 columns]"
      ]
     },
     "execution_count": 47,
     "metadata": {},
     "output_type": "execute_result"
    }
   ],
   "source": [
    "predict"
   ]
  },
  {
   "cell_type": "code",
   "execution_count": 48,
   "id": "c0ce1e27",
   "metadata": {},
   "outputs": [
    {
     "data": {
      "text/html": [
       "<div>\n",
       "<style scoped>\n",
       "    .dataframe tbody tr th:only-of-type {\n",
       "        vertical-align: middle;\n",
       "    }\n",
       "\n",
       "    .dataframe tbody tr th {\n",
       "        vertical-align: top;\n",
       "    }\n",
       "\n",
       "    .dataframe thead th {\n",
       "        text-align: right;\n",
       "    }\n",
       "</style>\n",
       "<table border=\"1\" class=\"dataframe\">\n",
       "  <thead>\n",
       "    <tr style=\"text-align: right;\">\n",
       "      <th></th>\n",
       "      <th>Actual</th>\n",
       "    </tr>\n",
       "  </thead>\n",
       "  <tbody>\n",
       "    <tr>\n",
       "      <th>0</th>\n",
       "      <td>0.400066</td>\n",
       "    </tr>\n",
       "    <tr>\n",
       "      <th>1</th>\n",
       "      <td>0.399054</td>\n",
       "    </tr>\n",
       "    <tr>\n",
       "      <th>2</th>\n",
       "      <td>0.396299</td>\n",
       "    </tr>\n",
       "    <tr>\n",
       "      <th>3</th>\n",
       "      <td>0.384728</td>\n",
       "    </tr>\n",
       "    <tr>\n",
       "      <th>4</th>\n",
       "      <td>0.384186</td>\n",
       "    </tr>\n",
       "    <tr>\n",
       "      <th>...</th>\n",
       "      <td>...</td>\n",
       "    </tr>\n",
       "    <tr>\n",
       "      <th>9288</th>\n",
       "      <td>0.507936</td>\n",
       "    </tr>\n",
       "    <tr>\n",
       "      <th>9289</th>\n",
       "      <td>0.537798</td>\n",
       "    </tr>\n",
       "    <tr>\n",
       "      <th>9290</th>\n",
       "      <td>0.636553</td>\n",
       "    </tr>\n",
       "    <tr>\n",
       "      <th>9291</th>\n",
       "      <td>0.694195</td>\n",
       "    </tr>\n",
       "    <tr>\n",
       "      <th>9292</th>\n",
       "      <td>0.634317</td>\n",
       "    </tr>\n",
       "  </tbody>\n",
       "</table>\n",
       "<p>9293 rows × 1 columns</p>\n",
       "</div>"
      ],
      "text/plain": [
       "        Actual\n",
       "0     0.400066\n",
       "1     0.399054\n",
       "2     0.396299\n",
       "3     0.384728\n",
       "4     0.384186\n",
       "...        ...\n",
       "9288  0.507936\n",
       "9289  0.537798\n",
       "9290  0.636553\n",
       "9291  0.694195\n",
       "9292  0.634317\n",
       "\n",
       "[9293 rows x 1 columns]"
      ]
     },
     "execution_count": 48,
     "metadata": {},
     "output_type": "execute_result"
    }
   ],
   "source": [
    "actual"
   ]
  },
  {
   "cell_type": "code",
   "execution_count": 49,
   "id": "8cac5f27",
   "metadata": {},
   "outputs": [],
   "source": [
    "df2 = df.iloc[90718:,:]"
   ]
  },
  {
   "cell_type": "code",
   "execution_count": 50,
   "id": "833f6753",
   "metadata": {},
   "outputs": [
    {
     "data": {
      "text/plain": [
       "(15336, 4)"
      ]
     },
     "execution_count": 50,
     "metadata": {},
     "output_type": "execute_result"
    }
   ],
   "source": [
    "df2.shape"
   ]
  },
  {
   "cell_type": "code",
   "execution_count": null,
   "id": "c954ae26",
   "metadata": {},
   "outputs": [],
   "source": []
  }
 ],
 "metadata": {
  "kernelspec": {
   "display_name": "Python 3",
   "language": "python",
   "name": "python3"
  },
  "language_info": {
   "codemirror_mode": {
    "name": "ipython",
    "version": 3
   },
   "file_extension": ".py",
   "mimetype": "text/x-python",
   "name": "python",
   "nbconvert_exporter": "python",
   "pygments_lexer": "ipython3",
   "version": "3.9.2"
  }
 },
 "nbformat": 4,
 "nbformat_minor": 5
}
